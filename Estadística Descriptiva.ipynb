{
 "cells": [
  {
   "cell_type": "code",
   "execution_count": 7,
   "metadata": {},
   "outputs": [],
   "source": [
    "import pandas as pd\n",
    "import matplotlib.pyplot as plt\n",
    "import seaborn as sns"
   ]
  },
  {
   "cell_type": "markdown",
   "metadata": {},
   "source": [
    "Seaborn es una librería de Python para visualización de datos basada en matplotlib. Provee una interface de alto nivel para crear graficos estadísticos informativos y atractivos.\n",
    "\n",
    "[seaborn homepage](https://seaborn.pydata.org/index.html)"
   ]
  },
  {
   "cell_type": "markdown",
   "metadata": {},
   "source": [
    "# Volados #"
   ]
  },
  {
   "cell_type": "markdown",
   "metadata": {},
   "source": [
    "Vamos a empezar analizando que tan bien se pueden echar volados usando python. Para lo cual necesitamos un generador de números aleatorios. Un paquete que da algunas funciones para lograr dicho objetivo es el siguiente:"
   ]
  },
  {
   "cell_type": "code",
   "execution_count": 5,
   "metadata": {},
   "outputs": [],
   "source": [
    "import random"
   ]
  },
  {
   "cell_type": "markdown",
   "metadata": {},
   "source": [
    "Ahora vamos a definir una función que genere 100 números aleatorios en el intervalo $[0,1)$ y contará cuantos cumplen que su valor sea menor o igual a $1/2$. Para lo cual usaremos la función random(), ver [random.](https://docs.python.org/3/library/random.html)"
   ]
  },
  {
   "cell_type": "code",
   "execution_count": 26,
   "metadata": {},
   "outputs": [],
   "source": [
    "def soles():\n",
    "    s = 0\n",
    "    for i in range(100):\n",
    "        if random.random() <= 0.5:\n",
    "            s+=1\n",
    "    return s"
   ]
  },
  {
   "cell_type": "code",
   "execution_count": 29,
   "metadata": {},
   "outputs": [
    {
     "name": "stdout",
     "output_type": "stream",
     "text": [
      "49\n",
      "59\n",
      "59\n",
      "49\n",
      "51\n",
      "44\n",
      "50\n",
      "57\n",
      "53\n",
      "49\n"
     ]
    }
   ],
   "source": [
    "for i in range(10):\n",
    "    print(soles())"
   ]
  },
  {
   "cell_type": "markdown",
   "metadata": {},
   "source": [
    "Ahora sería interesante determinar cuántos soles aparecen en varios ensayos de 100 volados. La siguiente función nos permitirá realizar esta prueba."
   ]
  },
  {
   "cell_type": "code",
   "execution_count": 30,
   "metadata": {},
   "outputs": [],
   "source": [
    "def volados(n):\n",
    "    ensayos = []\n",
    "    for i in range(n):\n",
    "        ensayos.append(soles())\n",
    "    return(sum(ensayos)/n)"
   ]
  },
  {
   "cell_type": "code",
   "execution_count": 31,
   "metadata": {},
   "outputs": [
    {
     "data": {
      "text/plain": [
       "(50.3, 51.0, 50.111111111111114, 50.42857142857143, 49.733333333333334)"
      ]
     },
     "execution_count": 31,
     "metadata": {},
     "output_type": "execute_result"
    }
   ],
   "source": [
    "volados(10),volados(10^2),volados(10^3),volados(10^4),volados(10^5)"
   ]
  },
  {
   "cell_type": "code",
   "execution_count": 32,
   "metadata": {},
   "outputs": [
    {
     "data": {
      "text/plain": [
       "(49.2, 49.0, 48.888888888888886, 49.857142857142854, 49.666666666666664)"
      ]
     },
     "execution_count": 32,
     "metadata": {},
     "output_type": "execute_result"
    }
   ],
   "source": [
    "volados(10),volados(10^2),volados(10^3),volados(10^4),volados(10^5)"
   ]
  },
  {
   "cell_type": "markdown",
   "metadata": {},
   "source": [
    "Idealmente deberíamos obtener 50 soles y  50 águilas. Sin embargo los resultados anteriores no dejan del todo claro que nuestro generador de aleatorios cumpla con el caso ideal. Además inspeccionar números no parece ser una buena estrategia.\n",
    "\n",
    "Así, podemos crear un histograma que nos muestre cuantos soles obtenemos al lanzar $100$ volados, luego $200,\\ldots,100000$ "
   ]
  },
  {
   "cell_type": "code",
   "execution_count": 12,
   "metadata": {},
   "outputs": [
    {
     "data": {
      "image/png": "[encoded data removed]",
      "text/plain": [
       "<Figure size 432x288 with 1 Axes>"
      ]
     },
     "metadata": {
      "needs_background": "light"
     },
     "output_type": "display_data"
    }
   ],
   "source": [
    "d=[]\n",
    "for i in range(1,1000):\n",
    "    d.append(volados(i))\n",
    "\n",
    "data=pd.Series(d)\n",
    "data.plot.hist(grid=True, bins=20)\n",
    "plt.grid(axis='x')"
   ]
  },
  {
   "cell_type": "markdown",
   "metadata": {},
   "source": [
    "El resultado indica que en la gran mayoría de los ensayos se obtienen cerca de 50 soles."
   ]
  },
  {
   "cell_type": "markdown",
   "metadata": {},
   "source": [
    "# Vinos #"
   ]
  },
  {
   "cell_type": "code",
   "execution_count": null,
   "metadata": {},
   "outputs": [],
   "source": []
  },
  {
   "cell_type": "code",
   "execution_count": null,
   "metadata": {},
   "outputs": [],
   "source": []
  },
  {
   "cell_type": "code",
   "execution_count": null,
   "metadata": {},
   "outputs": [],
   "source": []
  },
  {
   "cell_type": "code",
   "execution_count": null,
   "metadata": {},
   "outputs": [],
   "source": []
  },
  {
   "cell_type": "code",
   "execution_count": null,
   "metadata": {},
   "outputs": [],
   "source": [
    "import csv"
   ]
  },
  {
   "cell_type": "code",
   "execution_count": null,
   "metadata": {},
   "outputs": [],
   "source": [
    "with open(\"winemag-data-130k-v2.csv\", \"r\", encoding=\"latin-1\") as f:\n",
    "    wines = list(csv.reader(f))"
   ]
  },
  {
   "cell_type": "code",
   "execution_count": null,
   "metadata": {},
   "outputs": [],
   "source": [
    "wines[:]"
   ]
  },
  {
   "cell_type": "code",
   "execution_count": null,
   "metadata": {},
   "outputs": [],
   "source": [
    "vinos=[]"
   ]
  },
  {
   "cell_type": "code",
   "execution_count": null,
   "metadata": {},
   "outputs": [],
   "source": [
    "for l in wines:\n",
    "    vinos.append(l[4])"
   ]
  },
  {
   "cell_type": "code",
   "execution_count": null,
   "metadata": {},
   "outputs": [],
   "source": [
    "vinos.pop(0)"
   ]
  },
  {
   "cell_type": "code",
   "execution_count": null,
   "metadata": {},
   "outputs": [],
   "source": []
  },
  {
   "cell_type": "code",
   "execution_count": null,
   "metadata": {},
   "outputs": [],
   "source": [
    "scores = [float(w) for w in vinos]"
   ]
  },
  {
   "cell_type": "code",
   "execution_count": null,
   "metadata": {},
   "outputs": [],
   "source": [
    "from numpy import *\n",
    "import matplotlib.pyplot as plt"
   ]
  },
  {
   "cell_type": "code",
   "execution_count": null,
   "metadata": {},
   "outputs": [],
   "source": [
    "mean(scores)"
   ]
  },
  {
   "cell_type": "code",
   "execution_count": null,
   "metadata": {},
   "outputs": [],
   "source": [
    "std(scores)"
   ]
  },
  {
   "cell_type": "code",
   "execution_count": null,
   "metadata": {},
   "outputs": [],
   "source": [
    "plt.hist(scores)\n",
    "plt.show()"
   ]
  },
  {
   "cell_type": "code",
   "execution_count": null,
   "metadata": {},
   "outputs": [],
   "source": [
    "for w in wines:\n",
    "    if(w[4])"
   ]
  },
  {
   "cell_type": "markdown",
   "metadata": {
    "heading_collapsed": true
   },
   "source": [
    "# Housing #"
   ]
  },
  {
   "cell_type": "code",
   "execution_count": null,
   "metadata": {
    "hidden": true
   },
   "outputs": [],
   "source": []
  },
  {
   "cell_type": "code",
   "execution_count": null,
   "metadata": {
    "hidden": true
   },
   "outputs": [],
   "source": [
    "df = pd.read_csv(\"MELBOURNE_HOUSE_PRICES_LESS.csv\")"
   ]
  },
  {
   "cell_type": "code",
   "execution_count": null,
   "metadata": {
    "hidden": true
   },
   "outputs": [],
   "source": [
    "df.head()"
   ]
  },
  {
   "cell_type": "code",
   "execution_count": null,
   "metadata": {
    "hidden": true
   },
   "outputs": [],
   "source": [
    "df.info()"
   ]
  },
  {
   "cell_type": "code",
   "execution_count": null,
   "metadata": {
    "hidden": true
   },
   "outputs": [],
   "source": [
    "promedio = df['Price'].mean()"
   ]
  },
  {
   "cell_type": "code",
   "execution_count": null,
   "metadata": {
    "hidden": true
   },
   "outputs": [],
   "source": [
    "promedio"
   ]
  },
  {
   "cell_type": "code",
   "execution_count": null,
   "metadata": {
    "hidden": true
   },
   "outputs": [],
   "source": [
    "mediana= df['Price'].median()"
   ]
  },
  {
   "cell_type": "code",
   "execution_count": null,
   "metadata": {
    "hidden": true
   },
   "outputs": [],
   "source": [
    "mediana"
   ]
  },
  {
   "cell_type": "code",
   "execution_count": null,
   "metadata": {
    "hidden": true
   },
   "outputs": [],
   "source": [
    "desvest= df['Price'].std()"
   ]
  },
  {
   "cell_type": "code",
   "execution_count": null,
   "metadata": {
    "hidden": true
   },
   "outputs": [],
   "source": [
    "desvest"
   ]
  },
  {
   "cell_type": "code",
   "execution_count": null,
   "metadata": {
    "hidden": true
   },
   "outputs": [],
   "source": []
  },
  {
   "cell_type": "code",
   "execution_count": null,
   "metadata": {
    "hidden": true
   },
   "outputs": [],
   "source": [
    "sns.set(style=\"whitegrid\")"
   ]
  },
  {
   "cell_type": "code",
   "execution_count": null,
   "metadata": {
    "hidden": true
   },
   "outputs": [],
   "source": [
    "plt.figure(figsize=(10,8))"
   ]
  },
  {
   "cell_type": "code",
   "execution_count": null,
   "metadata": {
    "hidden": true
   },
   "outputs": [],
   "source": [
    "ax = sns.boxplot(x='Price', data=df, orient=\"v\")"
   ]
  },
  {
   "cell_type": "code",
   "execution_count": null,
   "metadata": {
    "hidden": true
   },
   "outputs": [],
   "source": [
    "ax = sns.boxplot(x='Type', y='Price', data=df, orient=\"v\")"
   ]
  },
  {
   "cell_type": "code",
   "execution_count": null,
   "metadata": {
    "hidden": true
   },
   "outputs": [],
   "source": [
    "filter_data = df.dropna(subset=['Price'])"
   ]
  },
  {
   "cell_type": "code",
   "execution_count": null,
   "metadata": {
    "hidden": true
   },
   "outputs": [],
   "source": [
    "plt.figure(figsize=(14,8))"
   ]
  },
  {
   "cell_type": "code",
   "execution_count": null,
   "metadata": {
    "hidden": true
   },
   "outputs": [],
   "source": [
    "sns.distplot(filter_data['Price'], kde=False)"
   ]
  },
  {
   "cell_type": "code",
   "execution_count": null,
   "metadata": {
    "hidden": true
   },
   "outputs": [],
   "source": [
    "type_counts = df['Type'].value_counts()"
   ]
  },
  {
   "cell_type": "code",
   "execution_count": null,
   "metadata": {
    "hidden": true
   },
   "outputs": [],
   "source": [
    "type_counts"
   ]
  },
  {
   "cell_type": "code",
   "execution_count": null,
   "metadata": {
    "hidden": true
   },
   "outputs": [],
   "source": [
    "{'house_type': type_counts}"
   ]
  },
  {
   "cell_type": "code",
   "execution_count": null,
   "metadata": {
    "hidden": true
   },
   "outputs": [],
   "source": [
    "df2 = pd.DataFrame({'house_type': type_counts}, \n",
    "                     index = ['t', 'h', 'u']\n",
    "                   )"
   ]
  },
  {
   "cell_type": "code",
   "execution_count": null,
   "metadata": {
    "hidden": true
   },
   "outputs": [],
   "source": [
    "df2"
   ]
  },
  {
   "cell_type": "code",
   "execution_count": null,
   "metadata": {
    "hidden": true
   },
   "outputs": [],
   "source": [
    "df2.plot.pie(y='house_type', figsize=(10,10), autopct='%1.1f%%')"
   ]
  },
  {
   "cell_type": "code",
   "execution_count": null,
   "metadata": {
    "hidden": true
   },
   "outputs": [],
   "source": [
    "sns.set(style='darkgrid')"
   ]
  },
  {
   "cell_type": "code",
   "execution_count": null,
   "metadata": {
    "hidden": true
   },
   "outputs": [],
   "source": []
  },
  {
   "cell_type": "code",
   "execution_count": null,
   "metadata": {
    "hidden": true
   },
   "outputs": [],
   "source": [
    "plt.figure(figsize=(10,7))\n",
    "ax = sns.countplot(x='Regionname', data=df)"
   ]
  },
  {
   "cell_type": "markdown",
   "metadata": {
    "heading_collapsed": true
   },
   "source": [
    "# Revistas científicas #"
   ]
  },
  {
   "cell_type": "code",
   "execution_count": null,
   "metadata": {
    "hidden": true
   },
   "outputs": [],
   "source": [
    "rc = pd.read_csv(\"scimagojr2018PhysicsandAstronomy.csv\",delimiter=\";\", decimal=\",\")"
   ]
  },
  {
   "cell_type": "code",
   "execution_count": 57,
   "metadata": {
    "hidden": true
   },
   "outputs": [
    {
     "data": {
      "text/html": [
       "<div>\n",
       "<style scoped>\n",
       "    .dataframe tbody tr th:only-of-type {\n",
       "        vertical-align: middle;\n",
       "    }\n",
       "\n",
       "    .dataframe tbody tr th {\n",
       "        vertical-align: top;\n",
       "    }\n",
       "\n",
       "    .dataframe thead th {\n",
       "        text-align: right;\n",
       "    }\n",
       "</style>\n",
       "<table border=\"1\" class=\"dataframe\">\n",
       "  <thead>\n",
       "    <tr style=\"text-align: right;\">\n",
       "      <th></th>\n",
       "      <th>Rank</th>\n",
       "      <th>Sourceid</th>\n",
       "      <th>Title</th>\n",
       "      <th>Type</th>\n",
       "      <th>Issn</th>\n",
       "      <th>SJR</th>\n",
       "      <th>SJR Quartile</th>\n",
       "      <th>H index</th>\n",
       "      <th>Total Docs. (2018)</th>\n",
       "      <th>Total Docs. (3years)</th>\n",
       "      <th>Total Refs.</th>\n",
       "      <th>Total Cites (3years)</th>\n",
       "      <th>Citable Docs. (3years)</th>\n",
       "      <th>Cites / Doc. (2years)</th>\n",
       "      <th>Ref. / Doc.</th>\n",
       "      <th>Country</th>\n",
       "      <th>Publisher</th>\n",
       "      <th>Coverage</th>\n",
       "      <th>Categories</th>\n",
       "    </tr>\n",
       "  </thead>\n",
       "  <tbody>\n",
       "    <tr>\n",
       "      <th>0</th>\n",
       "      <td>1</td>\n",
       "      <td>29719</td>\n",
       "      <td>Reviews of Modern Physics</td>\n",
       "      <td>journal</td>\n",
       "      <td>00346861, 15390756</td>\n",
       "      <td>17.337</td>\n",
       "      <td>Q1</td>\n",
       "      <td>298</td>\n",
       "      <td>42</td>\n",
       "      <td>127</td>\n",
       "      <td>14771</td>\n",
       "      <td>4952</td>\n",
       "      <td>120</td>\n",
       "      <td>37.78</td>\n",
       "      <td>351.69</td>\n",
       "      <td>United States</td>\n",
       "      <td>American Physical Society</td>\n",
       "      <td>1929-ongoing</td>\n",
       "      <td>Physics and Astronomy (miscellaneous) (Q1)</td>\n",
       "    </tr>\n",
       "    <tr>\n",
       "      <th>1</th>\n",
       "      <td>2</td>\n",
       "      <td>4000151822</td>\n",
       "      <td>Nature Physics</td>\n",
       "      <td>journal</td>\n",
       "      <td>17452473</td>\n",
       "      <td>9.515</td>\n",
       "      <td>Q1</td>\n",
       "      <td>233</td>\n",
       "      <td>335</td>\n",
       "      <td>889</td>\n",
       "      <td>8799</td>\n",
       "      <td>11422</td>\n",
       "      <td>637</td>\n",
       "      <td>16.44</td>\n",
       "      <td>26.27</td>\n",
       "      <td>United Kingdom</td>\n",
       "      <td>Nature Publishing Group</td>\n",
       "      <td>2006-ongoing</td>\n",
       "      <td>Physics and Astronomy (miscellaneous) (Q1)</td>\n",
       "    </tr>\n",
       "    <tr>\n",
       "      <th>2</th>\n",
       "      <td>3</td>\n",
       "      <td>29229</td>\n",
       "      <td>Physics Reports</td>\n",
       "      <td>journal</td>\n",
       "      <td>03701573</td>\n",
       "      <td>8.684</td>\n",
       "      <td>Q1</td>\n",
       "      <td>248</td>\n",
       "      <td>41</td>\n",
       "      <td>174</td>\n",
       "      <td>13662</td>\n",
       "      <td>4313</td>\n",
       "      <td>172</td>\n",
       "      <td>27.99</td>\n",
       "      <td>333.22</td>\n",
       "      <td>Netherlands</td>\n",
       "      <td>Elsevier BV</td>\n",
       "      <td>1971-ongoing</td>\n",
       "      <td>Physics and Astronomy (miscellaneous) (Q1)</td>\n",
       "    </tr>\n",
       "    <tr>\n",
       "      <th>3</th>\n",
       "      <td>4</td>\n",
       "      <td>28677</td>\n",
       "      <td>Living Reviews in Relativity</td>\n",
       "      <td>journal</td>\n",
       "      <td>14338351</td>\n",
       "      <td>7.304</td>\n",
       "      <td>Q1</td>\n",
       "      <td>75</td>\n",
       "      <td>7</td>\n",
       "      <td>13</td>\n",
       "      <td>3063</td>\n",
       "      <td>256</td>\n",
       "      <td>13</td>\n",
       "      <td>24.20</td>\n",
       "      <td>437.57</td>\n",
       "      <td>Germany</td>\n",
       "      <td>Albert Einstein Institut</td>\n",
       "      <td>2000-ongoing</td>\n",
       "      <td>Physics and Astronomy (miscellaneous) (Q1)</td>\n",
       "    </tr>\n",
       "    <tr>\n",
       "      <th>4</th>\n",
       "      <td>5</td>\n",
       "      <td>21100201772</td>\n",
       "      <td>Physical Review X</td>\n",
       "      <td>journal</td>\n",
       "      <td>21603308</td>\n",
       "      <td>6.497</td>\n",
       "      <td>Q1</td>\n",
       "      <td>86</td>\n",
       "      <td>280</td>\n",
       "      <td>609</td>\n",
       "      <td>18225</td>\n",
       "      <td>8117</td>\n",
       "      <td>589</td>\n",
       "      <td>12.09</td>\n",
       "      <td>65.09</td>\n",
       "      <td>United States</td>\n",
       "      <td>American Physical Society</td>\n",
       "      <td>2011-ongoing</td>\n",
       "      <td>Physics and Astronomy (miscellaneous) (Q1)</td>\n",
       "    </tr>\n",
       "  </tbody>\n",
       "</table>\n",
       "</div>"
      ],
      "text/plain": [
       "   Rank     Sourceid                         Title     Type  \\\n",
       "0     1        29719     Reviews of Modern Physics  journal   \n",
       "1     2   4000151822                Nature Physics  journal   \n",
       "2     3        29229               Physics Reports  journal   \n",
       "3     4        28677  Living Reviews in Relativity  journal   \n",
       "4     5  21100201772             Physical Review X  journal   \n",
       "\n",
       "                 Issn     SJR SJR Quartile  H index  Total Docs. (2018)  \\\n",
       "0  00346861, 15390756  17.337           Q1      298                  42   \n",
       "1            17452473   9.515           Q1      233                 335   \n",
       "2            03701573   8.684           Q1      248                  41   \n",
       "3            14338351   7.304           Q1       75                   7   \n",
       "4            21603308   6.497           Q1       86                 280   \n",
       "\n",
       "   Total Docs. (3years)  Total Refs.  Total Cites (3years)  \\\n",
       "0                   127        14771                  4952   \n",
       "1                   889         8799                 11422   \n",
       "2                   174        13662                  4313   \n",
       "3                    13         3063                   256   \n",
       "4                   609        18225                  8117   \n",
       "\n",
       "   Citable Docs. (3years)  Cites / Doc. (2years)  Ref. / Doc.         Country  \\\n",
       "0                     120                  37.78       351.69   United States   \n",
       "1                     637                  16.44        26.27  United Kingdom   \n",
       "2                     172                  27.99       333.22     Netherlands   \n",
       "3                      13                  24.20       437.57         Germany   \n",
       "4                     589                  12.09        65.09   United States   \n",
       "\n",
       "                   Publisher      Coverage  \\\n",
       "0  American Physical Society  1929-ongoing   \n",
       "1    Nature Publishing Group  2006-ongoing   \n",
       "2                Elsevier BV  1971-ongoing   \n",
       "3   Albert Einstein Institut  2000-ongoing   \n",
       "4  American Physical Society  2011-ongoing   \n",
       "\n",
       "                                   Categories  \n",
       "0  Physics and Astronomy (miscellaneous) (Q1)  \n",
       "1  Physics and Astronomy (miscellaneous) (Q1)  \n",
       "2  Physics and Astronomy (miscellaneous) (Q1)  \n",
       "3  Physics and Astronomy (miscellaneous) (Q1)  \n",
       "4  Physics and Astronomy (miscellaneous) (Q1)  "
      ]
     },
     "execution_count": 57,
     "metadata": {},
     "output_type": "execute_result"
    }
   ],
   "source": [
    "rc.head()"
   ]
  },
  {
   "cell_type": "code",
   "execution_count": null,
   "metadata": {
    "hidden": true
   },
   "outputs": [],
   "source": [
    "rc.info()"
   ]
  },
  {
   "cell_type": "code",
   "execution_count": 38,
   "metadata": {
    "hidden": true
   },
   "outputs": [],
   "source": [
    "docsProm=rc['Total Docs. (2018)'].mean()\n",
    "docsDesvest=rc['Total Docs. (2018)'].std()\n",
    "docsMax=rc['Total Docs. (2018)'].max()\n",
    "docsMin=rc['Total Docs. (2018)'].min()"
   ]
  },
  {
   "cell_type": "code",
   "execution_count": 39,
   "metadata": {
    "hidden": true
   },
   "outputs": [
    {
     "data": {
      "text/plain": [
       "(364.8501872659176, 1296.7689517851188)"
      ]
     },
     "execution_count": 39,
     "metadata": {},
     "output_type": "execute_result"
    }
   ],
   "source": [
    "docsProm,docsDesvest"
   ]
  },
  {
   "cell_type": "code",
   "execution_count": 40,
   "metadata": {
    "hidden": true
   },
   "outputs": [
    {
     "data": {
      "text/plain": [
       "1296.7689517851188"
      ]
     },
     "execution_count": 40,
     "metadata": {},
     "output_type": "execute_result"
    }
   ],
   "source": [
    "docsDesvest"
   ]
  },
  {
   "cell_type": "code",
   "execution_count": 41,
   "metadata": {
    "hidden": true
   },
   "outputs": [
    {
     "data": {
      "text/plain": [
       "14424"
      ]
     },
     "execution_count": 41,
     "metadata": {},
     "output_type": "execute_result"
    }
   ],
   "source": [
    "docsMax"
   ]
  },
  {
   "cell_type": "code",
   "execution_count": 42,
   "metadata": {
    "hidden": true
   },
   "outputs": [
    {
     "data": {
      "text/plain": [
       "0"
      ]
     },
     "execution_count": 42,
     "metadata": {},
     "output_type": "execute_result"
    }
   ],
   "source": [
    "docsMin"
   ]
  },
  {
   "cell_type": "code",
   "execution_count": 32,
   "metadata": {
    "hidden": true
   },
   "outputs": [
    {
     "data": {
      "text/plain": [
       "<matplotlib.axes._subplots.AxesSubplot at 0x7f73891b3cc0>"
      ]
     },
     "execution_count": 32,
     "metadata": {},
     "output_type": "execute_result"
    },
    {
     "data": {
      "image/png": "[encoded data removed]",
      "text/plain": [
       "<Figure size 432x288 with 1 Axes>"
      ]
     },
     "metadata": {
      "needs_background": "light"
     },
     "output_type": "display_data"
    }
   ],
   "source": [
    "sns.distplot(rc['Total Docs. (2018)'])"
   ]
  },
  {
   "cell_type": "code",
   "execution_count": 33,
   "metadata": {
    "hidden": true
   },
   "outputs": [],
   "source": [
    "t=pd.DataFrame({'docs':rc['Total Docs. (2018)']})"
   ]
  },
  {
   "cell_type": "code",
   "execution_count": 53,
   "metadata": {
    "hidden": true
   },
   "outputs": [
    {
     "data": {
      "text/plain": [
       "364.8501872659176"
      ]
     },
     "execution_count": 53,
     "metadata": {},
     "output_type": "execute_result"
    }
   ],
   "source": [
    "t.mean()[0]"
   ]
  },
  {
   "cell_type": "code",
   "execution_count": 64,
   "metadata": {
    "hidden": true
   },
   "outputs": [],
   "source": [
    "def momBasicos(l):\n",
    "    m=[]\n",
    "    t=pd.DataFrame({'temp':l})\n",
    "    m.append(t.mean()[0])\n",
    "    m.append(t.median()[0])\n",
    "    m.append(t.std()[0])\n",
    "    m.append(t.max()[0])\n",
    "    m.append(t.min()[0])\n",
    "    return m"
   ]
  },
  {
   "cell_type": "code",
   "execution_count": 65,
   "metadata": {
    "hidden": true
   },
   "outputs": [],
   "source": [
    "descEstTotDocs=momBasicos(rc['Total Docs. (2018)'])"
   ]
  },
  {
   "cell_type": "code",
   "execution_count": 66,
   "metadata": {
    "hidden": true
   },
   "outputs": [
    {
     "data": {
      "text/plain": [
       "[364.8501872659176, 91.0, 1296.7689517851188, 14424, 0]"
      ]
     },
     "execution_count": 66,
     "metadata": {},
     "output_type": "execute_result"
    }
   ],
   "source": [
    "descEstTotDocs"
   ]
  },
  {
   "cell_type": "code",
   "execution_count": 70,
   "metadata": {
    "hidden": true
   },
   "outputs": [
    {
     "data": {
      "text/plain": [
       "count    267.000000\n",
       "mean      51.985019\n",
       "std       69.423565\n",
       "min        0.000000\n",
       "25%       13.000000\n",
       "50%       31.000000\n",
       "75%       55.500000\n",
       "max      567.000000\n",
       "Name: H index, dtype: float64"
      ]
     },
     "execution_count": 70,
     "metadata": {},
     "output_type": "execute_result"
    }
   ],
   "source": [
    "rc['H index'].describe()"
   ]
  },
  {
   "cell_type": "code",
   "execution_count": 67,
   "metadata": {
    "hidden": true
   },
   "outputs": [],
   "source": [
    "descEstHindex=momBasicos(rc['H index'])"
   ]
  },
  {
   "cell_type": "code",
   "execution_count": 68,
   "metadata": {
    "hidden": true
   },
   "outputs": [
    {
     "data": {
      "text/plain": [
       "[51.98501872659176, 31.0, 69.42356482971083, 567, 0]"
      ]
     },
     "execution_count": 68,
     "metadata": {},
     "output_type": "execute_result"
    }
   ],
   "source": [
    "descEstHindex"
   ]
  },
  {
   "cell_type": "code",
   "execution_count": null,
   "metadata": {
    "hidden": true
   },
   "outputs": [],
   "source": []
  },
  {
   "cell_type": "code",
   "execution_count": 61,
   "metadata": {
    "hidden": true
   },
   "outputs": [
    {
     "data": {
      "text/plain": [
       "Rank                                                              11\n",
       "Sourceid                                                       29150\n",
       "Title                                        Physical Review Letters\n",
       "Type                                                         journal\n",
       "Issn                                              10797114, 00319007\n",
       "SJR                                                            3.571\n",
       "SJR Quartile                                                      Q1\n",
       "H index                                                          567\n",
       "Total Docs. (2018)                                              2883\n",
       "Total Docs. (3years)                                            7687\n",
       "Total Refs.                                                   131076\n",
       "Total Cites (3years)                                           66449\n",
       "Citable Docs. (3years)                                          7363\n",
       "Cites / Doc. (2years)                                            9.2\n",
       "Ref. / Doc.                                                    45.47\n",
       "Country                                                United States\n",
       "Publisher                                  American Physical Society\n",
       "Coverage                                                1958-ongoing\n",
       "Categories                Physics and Astronomy (miscellaneous) (Q1)\n",
       "Name: 10, dtype: object"
      ]
     },
     "execution_count": 61,
     "metadata": {},
     "output_type": "execute_result"
    }
   ],
   "source": [
    "rc.loc[rc['H index'].idxmax()]"
   ]
  },
  {
   "cell_type": "code",
   "execution_count": 62,
   "metadata": {
    "hidden": true
   },
   "outputs": [
    {
     "data": {
      "text/plain": [
       "Rank                                                                    252\n",
       "Sourceid                                                        21100786456\n",
       "Title                                                Philosophical Magazine\n",
       "Type                                                                journal\n",
       "Issn                                                               00318086\n",
       "SJR                                                                   0.124\n",
       "SJR Quartile                                                             Q4\n",
       "H index                                                                   0\n",
       "Total Docs. (2018)                                                        0\n",
       "Total Docs. (3years)                                                      1\n",
       "Total Refs.                                                               0\n",
       "Total Cites (3years)                                                      0\n",
       "Citable Docs. (3years)                                                    1\n",
       "Cites / Doc. (2years)                                                     0\n",
       "Ref. / Doc.                                                               0\n",
       "Country                                                      United Kingdom\n",
       "Publisher                                           Taylor and Francis Ltd.\n",
       "Coverage                                                          1970-1977\n",
       "Categories                Engineering (miscellaneous) (Q3); Physics and ...\n",
       "Name: 251, dtype: object"
      ]
     },
     "execution_count": 62,
     "metadata": {},
     "output_type": "execute_result"
    }
   ],
   "source": [
    "rc.loc[rc['H index'].idxmin()]"
   ]
  },
  {
   "cell_type": "markdown",
   "metadata": {
    "hidden": true
   },
   "source": []
  },
  {
   "cell_type": "markdown",
   "metadata": {
    "hidden": true
   },
   "source": [
    "## Grafica circular ##"
   ]
  },
  {
   "cell_type": "code",
   "execution_count": null,
   "metadata": {
    "hidden": true
   },
   "outputs": [],
   "source": [
    "tipos = rc['Type'].value_counts()"
   ]
  },
  {
   "cell_type": "code",
   "execution_count": null,
   "metadata": {
    "hidden": true
   },
   "outputs": [],
   "source": [
    "tipos"
   ]
  },
  {
   "cell_type": "code",
   "execution_count": null,
   "metadata": {
    "hidden": true
   },
   "outputs": [],
   "source": [
    "{'Tipo_revista': tipos}"
   ]
  },
  {
   "cell_type": "code",
   "execution_count": null,
   "metadata": {
    "hidden": true
   },
   "outputs": [],
   "source": [
    "rc2 = pd.DataFrame({'Tipo_revista': tipos}, \n",
    "                   index = ['journal', 'conference and proceedings', 'book series', 'trade journal'])"
   ]
  },
  {
   "cell_type": "code",
   "execution_count": null,
   "metadata": {
    "hidden": true
   },
   "outputs": [],
   "source": [
    "rc2"
   ]
  },
  {
   "cell_type": "code",
   "execution_count": null,
   "metadata": {
    "hidden": true
   },
   "outputs": [],
   "source": [
    "rc2.plot.pie(y='Tipo_revista', figsize=(10,10), autopct='%1.1f%%')"
   ]
  },
  {
   "cell_type": "markdown",
   "metadata": {
    "hidden": true
   },
   "source": [
    "## Grafica de conteos ##"
   ]
  },
  {
   "cell_type": "code",
   "execution_count": null,
   "metadata": {
    "hidden": true
   },
   "outputs": [],
   "source": [
    "filter_data = rc.dropna(subset=['Total Docs. (2018)'])"
   ]
  },
  {
   "cell_type": "code",
   "execution_count": null,
   "metadata": {
    "hidden": true
   },
   "outputs": [],
   "source": []
  },
  {
   "cell_type": "code",
   "execution_count": null,
   "metadata": {
    "hidden": true
   },
   "outputs": [],
   "source": [
    "plt.figure(figsize=(10,7))#ancho,alto\n",
    "ax = sns.countplot(x='Country', data=rc)\n",
    "ax.set_xticklabels(ax.get_xticklabels(), rotation=90)\n",
    "plt.tight_layout()"
   ]
  }
 ],
 "metadata": {
  "kernelspec": {
   "display_name": "Python 3",
   "language": "python",
   "name": "python3"
  },
  "language_info": {
   "codemirror_mode": {
    "name": "ipython",
    "version": 3
   },
   "file_extension": ".py",
   "mimetype": "text/x-python",
   "name": "python",
   "nbconvert_exporter": "python",
   "pygments_lexer": "ipython3",
   "version": "3.7.3"
  }
 },
 "nbformat": 4,
 "nbformat_minor": 2
}
