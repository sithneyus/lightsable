{
 "cells": [
  {
   "cell_type": "markdown",
   "metadata": {},
   "source": [
    "# Análisis estadístico de datos.  #\n",
    "* Estadística Descriptiva.\n",
    "* Teoría muestral. \n",
    "* Estimación estadística. \n",
    "* Decisión estadística. \n",
    "* Aprendizaje estadístico.\n"
   ]
  },
  {
   "cell_type": "markdown",
   "metadata": {},
   "source": [
    "<a href=\"https://colab.research.google.com/github/sithneyus/lightsable/blob/master/Estad%C3%ADstica%20Descriptiva.ipynb\" target=\"_parent\"><img src=\"https://colab.research.google.com/assets/colab-badge.svg\" alt=\"Open In Colab\"/></a>"
   ]
  },
  {
   "cell_type": "markdown",
   "metadata": {},
   "source": [
    "La **estadística** es una área de conocimiento que trata con la colección, análisis, interpretación y presentación de datos.\n",
    "\n",
    "La **estadística descriptiva** es el cálculo de varias medidas estadísticas y el uso de gráficas y tablas para organizar y resumir información."
   ]
  },
  {
   "cell_type": "markdown",
   "metadata": {
    "heading_collapsed": true
   },
   "source": [
    "# Introducción a la estadística descriptiva. #"
   ]
  },
  {
   "cell_type": "markdown",
   "metadata": {
    "hidden": true
   },
   "source": [
    "Algunos conceptos básicos.\n",
    "\n",
    "**Población**. También denominada población objetivo, de referencia o de estudio, es el conjunto que se \n",
    "desea estudiar. Comprende a todos los miembros de interés y en muchas ocasiones no está disponible en \n",
    "su totalidad para ser analizada.\n",
    "\n",
    "Un ***parámetro*** es una propiedad numérica de una población.\n",
    "\n",
    "Empezaremos usando una lista de números de la cual calcularemos\n",
    "\n",
    "- el rango, \n",
    "- la media, \n",
    "- la mediana, \n",
    "- la moda, \n",
    "- la varianza y \n",
    "- la desviación estándar,\n",
    "- los z-scores,\n",
    "- los percentiles y cuartiles,\n",
    "- la boxplot.\n",
    "\n",
    "Para poder calcular cualquier propiedad de un conjunto de datos es necesario conocer la definición de \n",
    "dicha propiedad. Así, tenemos que \n",
    "\n",
    "### Teoría {\n",
    "El $\\color{red}{\\text{rango}}$ es la diferencia entre el número mayor y el número menor. Esto es, si los datos son $dat=\\{x_1,x_2,\\ldots,x_n\\}$, entonces\n",
    "\n",
    "$rango(dat)=max(dat)-min(dat)$\n",
    "\n",
    "\n",
    "### Teoría {\n",
    "La $\\color{red}{\\text{media}}$ de un conjunto de números $\\{x_1,\\ldots,x_n\\}$ está dada por\n",
    "\n",
    "$\\bar{x}=\\frac{1}{n}\\left(x_1+x_2+\\cdots+x_n\\right)=\\frac{1}{n}\\sum_{i=1}^n x_i.$\n",
    "\n",
    "### }\n",
    "\n",
    "La media es una cantidad cuyo valor es una medida alrededor de la cual la mayoría de los demás números \n",
    "están ubicados (suponiendo una distribución normal que se verá más adelante).\n",
    "\n",
    "Primero resulta útil importar los paquetes que usaremos:"
   ]
  },
  {
   "cell_type": "code",
   "execution_count": null,
   "metadata": {
    "hidden": true
   },
   "outputs": [],
   "source": [
    "from numpy import *\n",
    "import pandas as pd\n",
    "import matplotlib.pyplot as plt\n",
    "import seaborn as sns\n",
    "import statistics as st"
   ]
  },
  {
   "cell_type": "markdown",
   "metadata": {
    "hidden": true
   },
   "source": [
    "Seaborn es una librería de Python para visualización de datos basada en matplotlib. Provee una interface de alto nivel para crear graficos estadísticos informativos y atractivos.\n",
    "\n",
    "[seaborn homepage](https://seaborn.pydata.org/index.html)"
   ]
  },
  {
   "cell_type": "markdown",
   "metadata": {
    "hidden": true
   },
   "source": [
    "Primero cargaremos los datos de un archivo."
   ]
  },
  {
   "cell_type": "code",
   "execution_count": null,
   "metadata": {
    "hidden": true
   },
   "outputs": [],
   "source": [
    "with open('datosInicial.txt') as f:\n",
    "    d=[]\n",
    "    for line in f: \n",
    "        d.append(float(line))"
   ]
  },
  {
   "cell_type": "markdown",
   "metadata": {
    "hidden": true
   },
   "source": [
    "Ahora vamos a calcular el rango y la media usando directamente las definiciones:"
   ]
  },
  {
   "cell_type": "code",
   "execution_count": null,
   "metadata": {
    "hidden": true
   },
   "outputs": [],
   "source": [
    "ma=max(d)\n",
    "mi=min(d)\n",
    "print(ma,mi)\n",
    "rango=ma-mi\n",
    "print(rango)"
   ]
  },
  {
   "cell_type": "code",
   "execution_count": null,
   "metadata": {
    "hidden": true
   },
   "outputs": [],
   "source": [
    "n=len(d)\n",
    "xb=sum(d)/float(n) #La funcion sum realiza la sumatoria de los elementos de la lista x\n",
    "print(xb)"
   ]
  },
  {
   "cell_type": "markdown",
   "metadata": {
    "hidden": true
   },
   "source": [
    "Ahora podemos calcular las dos principales medidas de dispersión: la varianza y la desviación estándar. \n",
    "\n",
    "### Teoría {\n",
    "La $\\color{red}{\\text{varianza}}$ de un conjunto de números $\\{x_1,\\ldots,x_n\\}$ está dada por\n",
    "\n",
    "$s=\\frac{1}{n}\\sum_{i=1}^n (x_i-\\bar{x})^2.$\n",
    "\n",
    "Y la $\\color{red}{\\text{desviación estándar}}$ es\n",
    "\n",
    "$de=\\sqrt{s}.$\n",
    "\n",
    "### }"
   ]
  },
  {
   "cell_type": "code",
   "execution_count": null,
   "metadata": {
    "hidden": true
   },
   "outputs": [],
   "source": [
    "s=0.0\n",
    "for i in d:\n",
    "    s=s+(i-xb)**2\n",
    "s=s/(n)\n",
    "print(\"Varianza = \",s)\n",
    "de=sqrt(s)\n",
    "print('Desv. est. = ',de)"
   ]
  },
  {
   "cell_type": "markdown",
   "metadata": {
    "heading_collapsed": true,
    "hidden": true
   },
   "source": [
    "## Ahora usando numpy.\n"
   ]
  },
  {
   "cell_type": "code",
   "execution_count": null,
   "metadata": {
    "hidden": true
   },
   "outputs": [],
   "source": [
    "med=mean(d)\n",
    "print(med,xb)"
   ]
  },
  {
   "cell_type": "code",
   "execution_count": null,
   "metadata": {
    "hidden": true
   },
   "outputs": [],
   "source": [
    "varianza=var(d)\n",
    "print(varianza,s)\n",
    "des=std(d)\n",
    "print(des,de)"
   ]
  },
  {
   "cell_type": "markdown",
   "metadata": {
    "hidden": true
   },
   "source": [
    "Con estos resultados confirmamos que los resultados obtenidos con las funciones de numpy coinciden con las obtenidas de manera directa implementando las fórmulas de estadística.\n",
    "\n",
    "## Conclusión\n",
    "\n",
    "Siempre que sea necesario hacer un cálculo numérico, después de leer la teoría al respecto hay que investigar si ya hay algún paquete de python que lo realice. Esto permite ahorrar tiempo y esfuerzo.\n",
    "\n",
    "\n",
    "## Interpretación de los resultados.\n",
    "\n",
    "Ya que conocemos la media y la desviación estándar de un conjunto de datos, debemos tener en mente qué es lo que significan. Para esto, veamos primero el histograma de nuestro conjunto de datos. \n",
    "\n",
    "### Teoría {\n",
    "Un $\\color{red}{\\text{histograma}}$ es una gráfica que muestra las clases (en que se dividen los datos) en el eje $x$ y las frecuencias en el eje $y$.\n",
    "### }\n",
    "\n",
    "La forma de construir los bins depende del rango de nuestros datos, pero por el momento usaremos la opción automática de la función."
   ]
  },
  {
   "cell_type": "code",
   "execution_count": null,
   "metadata": {
    "hidden": true
   },
   "outputs": [],
   "source": [
    "plt.hist(d, bins='auto', edgecolor='k')\n",
    "plt.show()"
   ]
  },
  {
   "cell_type": "markdown",
   "metadata": {
    "hidden": true
   },
   "source": [
    "\n",
    "La altura de cada rectángulo representa la frecuencia del bin correspondiente al valor sobre el cual está la base del rectángulo. Así podemos ver que los bins más frecuentes están alrededor de 100. Esto es lo que nos indica el valor de la media que obtuvimos anteriormente. \n",
    "\n",
    "Esto es, la media es el valor alrededor del cual están la mayoría de los datos. Por otra parte la desviación estándar es la media de las distancias de los datos con respecto a la media de los datos.\n",
    "\n",
    "Hay otros dos parámetros que se pueden calcular para describir estadísticamente un conjunto de datos. Estos son la mediana y la moda.\n",
    "\n",
    "### Teoría {\n",
    "\n",
    "Sea $A=\\{a_1,a_2,\\ldots,a_n\\}$, entonces \n",
    "\n",
    "$\n",
    "mediana(A)=\\begin{cases}\n",
    "a_{(n+1)/2} & \\text{ si } n\\mod 2 \\neq 0 \\\\\n",
    "\\frac{a_{k}+a_{k+1}}{2} & \\text{ si } n\\mod 2=0.  \n",
    "\\end{cases}\n",
    "$\n",
    "\n",
    "con $k=n/2$.\n",
    "### }"
   ]
  },
  {
   "cell_type": "code",
   "execution_count": null,
   "metadata": {
    "hidden": true
   },
   "outputs": [],
   "source": [
    "print(median(d))"
   ]
  },
  {
   "cell_type": "markdown",
   "metadata": {
    "hidden": true
   },
   "source": [
    "La mediana resulta un parámetro importante ya que permite checar una propiedad muy simple que caracteriza a las distribuciones normales. En toda distribución normal se tiene que \n",
    "\n",
    "$mediana=media$"
   ]
  },
  {
   "cell_type": "code",
   "execution_count": null,
   "metadata": {
    "hidden": true
   },
   "outputs": [],
   "source": [
    "print(med)"
   ]
  },
  {
   "cell_type": "markdown",
   "metadata": {
    "hidden": true
   },
   "source": [
    "Aunque ambas son similares en su valor entero, no son lo suficientemente cercanas para garantizar que tenemos datos de una distribución normal.\n",
    "\n",
    "### Teoría {\n",
    "\n",
    "La $\\color{red}{\\text{moda}}$ es el valor más frecuente de la sucesión.\n",
    "\n",
    "### }"
   ]
  },
  {
   "cell_type": "markdown",
   "metadata": {
    "hidden": true
   },
   "source": [
    "Para calcular la moda se puede usar una función del paquete \"statistics\"."
   ]
  },
  {
   "cell_type": "code",
   "execution_count": null,
   "metadata": {
    "hidden": true
   },
   "outputs": [],
   "source": [
    "print(st.mode(d))"
   ]
  },
  {
   "cell_type": "markdown",
   "metadata": {
    "hidden": true
   },
   "source": [
    "El $\\color{red}{\\text{coeficiente de variación}}$ está dado por\n",
    "\n",
    "$CV=\\frac{s}{\\bar{x}}$"
   ]
  },
  {
   "cell_type": "code",
   "execution_count": null,
   "metadata": {
    "hidden": true
   },
   "outputs": [],
   "source": [
    "cv=100*(des/med)"
   ]
  },
  {
   "cell_type": "code",
   "execution_count": null,
   "metadata": {
    "hidden": true
   },
   "outputs": [],
   "source": [
    "cv"
   ]
  },
  {
   "cell_type": "code",
   "execution_count": null,
   "metadata": {
    "hidden": true
   },
   "outputs": [],
   "source": [
    "med,min(d),max(d)"
   ]
  },
  {
   "cell_type": "code",
   "execution_count": null,
   "metadata": {
    "hidden": true
   },
   "outputs": [],
   "source": [
    "abs(des-min(d))/med"
   ]
  },
  {
   "cell_type": "code",
   "execution_count": null,
   "metadata": {
    "hidden": true
   },
   "outputs": [],
   "source": [
    "w=[90,100,110]\n",
    "wp=mean(w)\n",
    "wde=std(w)\n",
    "w,wp,wde"
   ]
  },
  {
   "cell_type": "code",
   "execution_count": null,
   "metadata": {
    "hidden": true
   },
   "outputs": [],
   "source": [
    "suma=0\n",
    "for i in w:\n",
    "    suma=suma+(i-wp)**2\n",
    "vari=suma/2\n",
    "desvi=sqrt(vari)\n",
    "desvi"
   ]
  },
  {
   "cell_type": "markdown",
   "metadata": {
    "hidden": true
   },
   "source": [
    "¡¿Qué pasó?! \n",
    "\n",
    "Esta diferencia entre la varianza nos daría un diferencia también en el coeficiente de variación."
   ]
  },
  {
   "cell_type": "code",
   "execution_count": null,
   "metadata": {
    "hidden": true
   },
   "outputs": [],
   "source": [
    "100*(wde/wp),100*(desvi/wp)"
   ]
  },
  {
   "cell_type": "code",
   "execution_count": null,
   "metadata": {
    "hidden": true
   },
   "outputs": [],
   "source": [
    "wde2=std(w,ddof=1)\n",
    "wde2"
   ]
  },
  {
   "cell_type": "code",
   "execution_count": null,
   "metadata": {
    "hidden": true
   },
   "outputs": [],
   "source": [
    "w2=[80,90,100,110,120]\n",
    "w2p=mean(w)\n",
    "w2de=std(w,ddof=1)\n",
    "cv2=w2de/w2p\n",
    "w2,w2p,w2de,cv2"
   ]
  },
  {
   "cell_type": "markdown",
   "metadata": {
    "hidden": true
   },
   "source": [
    "[varianza de numpy](https://het.as.utexas.edu/HET/Software/Numpy/reference/generated/numpy.var.html)"
   ]
  },
  {
   "cell_type": "code",
   "execution_count": null,
   "metadata": {
    "hidden": true
   },
   "outputs": [],
   "source": [
    "import scipy as sp"
   ]
  },
  {
   "cell_type": "code",
   "execution_count": null,
   "metadata": {
    "hidden": true
   },
   "outputs": [],
   "source": []
  },
  {
   "cell_type": "markdown",
   "metadata": {
    "hidden": true
   },
   "source": [
    "El $\\color{red}{\\text{z-score}}$ de un dato $x$ es el número de desviaciones estándar, por arriba o por abajo, a las que está $x$. Está dado por\n",
    "\n",
    "$z=\\frac{x-\\bar{x}}{s}$"
   ]
  },
  {
   "cell_type": "code",
   "execution_count": null,
   "metadata": {
    "hidden": true
   },
   "outputs": [],
   "source": [
    "z=[]\n",
    "for i in d:\n",
    "    z.append((i-med)/des)"
   ]
  },
  {
   "cell_type": "code",
   "execution_count": null,
   "metadata": {
    "hidden": true
   },
   "outputs": [],
   "source": [
    "plt.figure(figsize=(15,7))#ancho,alto\n",
    "plt.plot(z, 'o')"
   ]
  },
  {
   "cell_type": "code",
   "execution_count": null,
   "metadata": {
    "hidden": true
   },
   "outputs": [],
   "source": [
    "plt.hist(z,bins='auto',edgecolor='k')\n",
    "plt.show()"
   ]
  },
  {
   "cell_type": "code",
   "execution_count": null,
   "metadata": {
    "hidden": true
   },
   "outputs": [],
   "source": [
    "max(z),min(z)"
   ]
  },
  {
   "cell_type": "markdown",
   "metadata": {
    "hidden": true
   },
   "source": [
    "Los $\\color{red}{\\text{percentiles}}$ son valores que dividen un conjunto de datos ordenados en 100 partes iguales. El p-ésimo percentil de un conjunto de datos es un valor tal que al menos p por ciento de las observaciones toman este valor o menos y al menos (100-p) por ciento de las observaciones toman este valor o más."
   ]
  },
  {
   "cell_type": "code",
   "execution_count": null,
   "metadata": {
    "hidden": true
   },
   "outputs": [],
   "source": [
    "min(d),max(d)"
   ]
  },
  {
   "cell_type": "code",
   "execution_count": null,
   "metadata": {
    "hidden": true
   },
   "outputs": [],
   "source": [
    "percentile(d,10)"
   ]
  },
  {
   "cell_type": "code",
   "execution_count": null,
   "metadata": {
    "hidden": true
   },
   "outputs": [],
   "source": [
    "Q1=quantile(d,0.25)"
   ]
  },
  {
   "cell_type": "code",
   "execution_count": null,
   "metadata": {
    "hidden": true
   },
   "outputs": [],
   "source": [
    "Q3=quantile(d,0.75)"
   ]
  },
  {
   "cell_type": "code",
   "execution_count": null,
   "metadata": {
    "hidden": true
   },
   "outputs": [],
   "source": [
    "Q1,Q3"
   ]
  },
  {
   "cell_type": "code",
   "execution_count": null,
   "metadata": {
    "hidden": true
   },
   "outputs": [],
   "source": [
    "IQR=Q3-Q1"
   ]
  },
  {
   "cell_type": "code",
   "execution_count": null,
   "metadata": {
    "hidden": true
   },
   "outputs": [],
   "source": [
    "IQR"
   ]
  },
  {
   "cell_type": "markdown",
   "metadata": {
    "hidden": true
   },
   "source": [
    "Una $\\color{red}{\\text{boxplot}}$ es una grafica en la cual se construye una caja de Q1 a Q3 la cual contiene el 50% de los datos. Se dibujan dos lineas, llamadas bigotes. La primera desde el dato mínimo hasta Q1 y la segunda desde Q3 hasta el dato máximo. Además se dibuja una linea dentro de la caja perpendicular a los bigotes que corresponde a la mediana."
   ]
  },
  {
   "cell_type": "code",
   "execution_count": null,
   "metadata": {
    "hidden": true
   },
   "outputs": [],
   "source": [
    "plt.figure(figsize=(12,7))#ancho,alto\n",
    "sns.boxplot(x=None, data=d, orient=\"h\")"
   ]
  },
  {
   "cell_type": "markdown",
   "metadata": {
    "heading_collapsed": true
   },
   "source": [
    "# El caso del desempleo #"
   ]
  },
  {
   "cell_type": "markdown",
   "metadata": {
    "hidden": true
   },
   "source": [
    "Vamos a explorar un archivo de datos que contiene información sobre el desempleo a nivel mundial."
   ]
  },
  {
   "cell_type": "code",
   "execution_count": null,
   "metadata": {
    "hidden": true
   },
   "outputs": [],
   "source": [
    "datos=pd.read_csv(\"desempleo_mundial.csv\", index_col=0)"
   ]
  },
  {
   "cell_type": "code",
   "execution_count": null,
   "metadata": {
    "hidden": true
   },
   "outputs": [],
   "source": [
    "datos.head()"
   ]
  },
  {
   "cell_type": "markdown",
   "metadata": {
    "hidden": true
   },
   "source": [
    "Estos datos corresponden al porcentaje anual de la población en situación de desempleo en un periódo de 1991 a 2010."
   ]
  },
  {
   "cell_type": "code",
   "execution_count": null,
   "metadata": {
    "hidden": true
   },
   "outputs": [],
   "source": [
    "datos.loc['Angola']"
   ]
  },
  {
   "cell_type": "code",
   "execution_count": null,
   "metadata": {
    "hidden": true
   },
   "outputs": [],
   "source": [
    "plt.figure(figsize=(15,7))#ancho,alto\n",
    "plt.plot(datos.loc['Angola'])\n",
    "plt.plot(datos.loc['Albania'])"
   ]
  },
  {
   "cell_type": "code",
   "execution_count": null,
   "metadata": {
    "hidden": true
   },
   "outputs": [],
   "source": [
    "mean(datos.loc['Angola']),median(datos.loc['Angola'])"
   ]
  },
  {
   "cell_type": "markdown",
   "metadata": {
    "hidden": true
   },
   "source": [
    "¿Una diferencia tan clara entre la media y la mediana nos permite afirmar que no es una distribución normal? Ahora veamos la desviación estándar."
   ]
  },
  {
   "cell_type": "code",
   "execution_count": null,
   "metadata": {
    "hidden": true
   },
   "outputs": [],
   "source": [
    "std(datos.loc['Angola'])"
   ]
  },
  {
   "cell_type": "code",
   "execution_count": null,
   "metadata": {
    "hidden": true
   },
   "outputs": [],
   "source": [
    "plt.hist(datos.loc['Angola'],bins='auto',edgecolor='k')\n",
    "plt.show()"
   ]
  },
  {
   "cell_type": "code",
   "execution_count": null,
   "metadata": {
    "hidden": true
   },
   "outputs": [],
   "source": [
    "plt.hist(datos.loc['Angola'],bins=7,edgecolor='k')\n",
    "plt.show()"
   ]
  },
  {
   "cell_type": "markdown",
   "metadata": {
    "hidden": true
   },
   "source": [
    "Vamos a empezar analizando que tan bien se pueden echar volados usando python. Para lo cual necesitamos un generador de números aleatorios. Un paquete que da algunas funciones para lograr dicho objetivo es el siguiente:"
   ]
  },
  {
   "cell_type": "markdown",
   "metadata": {
    "heading_collapsed": true
   },
   "source": [
    "# Pequeño experimento con aleatorios #"
   ]
  },
  {
   "cell_type": "code",
   "execution_count": null,
   "metadata": {
    "hidden": true
   },
   "outputs": [],
   "source": [
    "import random"
   ]
  },
  {
   "cell_type": "markdown",
   "metadata": {
    "hidden": true
   },
   "source": [
    "Ahora vamos a definir una función que genere 100 números aleatorios en el intervalo $[0,1)$ y contará cuantos cumplen que su valor sea menor o igual a $1/2$. Para lo cual usaremos la función random(), ver [random.](https://docs.python.org/3/library/random.html)"
   ]
  },
  {
   "cell_type": "code",
   "execution_count": null,
   "metadata": {
    "hidden": true
   },
   "outputs": [],
   "source": [
    "def soles():\n",
    "    s = 0\n",
    "    for i in range(100):\n",
    "        if random.random() <= 0.5:\n",
    "            s+=1\n",
    "    return s"
   ]
  },
  {
   "cell_type": "code",
   "execution_count": null,
   "metadata": {
    "hidden": true
   },
   "outputs": [],
   "source": [
    "for i in range(10):\n",
    "    print(soles())"
   ]
  },
  {
   "cell_type": "markdown",
   "metadata": {
    "hidden": true
   },
   "source": [
    "Es interesante determinar cuántos soles aparecen en $n$ ensayos de 100 volados. La siguiente función nos permitirá realizar esta prueba."
   ]
  },
  {
   "cell_type": "code",
   "execution_count": null,
   "metadata": {
    "hidden": true
   },
   "outputs": [],
   "source": [
    "def volados(n):\n",
    "    ensayos = []\n",
    "    for i in range(n):\n",
    "        ensayos.append(soles())\n",
    "    return(sum(ensayos)/n)"
   ]
  },
  {
   "cell_type": "markdown",
   "metadata": {
    "hidden": true
   },
   "source": [
    "Esta función regresa el promedio de soles en $n$ ensayos."
   ]
  },
  {
   "cell_type": "code",
   "execution_count": null,
   "metadata": {
    "hidden": true
   },
   "outputs": [],
   "source": [
    "volados(10),volados(10^2),volados(10^3),volados(10^4),volados(10^5)"
   ]
  },
  {
   "cell_type": "code",
   "execution_count": null,
   "metadata": {
    "hidden": true
   },
   "outputs": [],
   "source": [
    "volados(10),volados(10^2),volados(10^3),volados(10^4),volados(10^5)"
   ]
  },
  {
   "cell_type": "markdown",
   "metadata": {
    "hidden": true
   },
   "source": [
    "Idealmente deberíamos obtener 50 soles y  50 águilas. Sin embargo los resultados anteriores no dejan del todo claro que nuestro generador de aleatorios cumpla con el caso ideal. Además inspeccionar números no parece ser una buena estrategia.\n",
    "\n",
    "Así, podemos crear un histograma que nos muestre cuantos soles, en promedio, obtenemos al lanzar $100$ volados, luego $200,\\ldots,100000$ "
   ]
  },
  {
   "cell_type": "code",
   "execution_count": null,
   "metadata": {
    "hidden": true
   },
   "outputs": [],
   "source": [
    "d=[]\n",
    "for i in range(1,1001):\n",
    "    d.append(volados(i))"
   ]
  },
  {
   "cell_type": "code",
   "execution_count": null,
   "metadata": {
    "hidden": true
   },
   "outputs": [],
   "source": [
    "data=pd.Series(d)\n",
    "data.plot.hist(grid=True)#, bins=20)\n",
    "plt.grid(axis='x')"
   ]
  },
  {
   "cell_type": "markdown",
   "metadata": {
    "hidden": true
   },
   "source": [
    "El resultado indica que en la mayoría de los volados se obtienen aproximadamente 50 soles.\n",
    "\n",
    "Sin embargo, podemos analizar un poco más a fondo este resultado."
   ]
  },
  {
   "cell_type": "code",
   "execution_count": null,
   "metadata": {
    "hidden": true
   },
   "outputs": [],
   "source": [
    "r1=0\n",
    "r2=0\n",
    "for i in d:\n",
    "    if(i <= 50):\n",
    "        r1+=1\n",
    "    else:\n",
    "        r2+=1\n",
    "print(r1,r2)"
   ]
  },
  {
   "cell_type": "code",
   "execution_count": null,
   "metadata": {
    "hidden": true
   },
   "outputs": [],
   "source": [
    "r1=0\n",
    "r2=0\n",
    "for i in d:\n",
    "    if(i <= 51 and i>=49):\n",
    "        r1+=1\n",
    "    else:\n",
    "        r2+=1\n",
    "print(r1,r2)"
   ]
  },
  {
   "cell_type": "code",
   "execution_count": null,
   "metadata": {
    "hidden": true
   },
   "outputs": [],
   "source": [
    "r1=0\n",
    "r2=0\n",
    "for i in d:\n",
    "    if(i <= 52 and i>=48):\n",
    "        r1+=1\n",
    "    else:\n",
    "        r2+=1\n",
    "print(r1,r2)"
   ]
  },
  {
   "cell_type": "markdown",
   "metadata": {
    "heading_collapsed": true
   },
   "source": [
    "# Vinos #"
   ]
  },
  {
   "cell_type": "markdown",
   "metadata": {
    "heading_collapsed": true,
    "hidden": true
   },
   "source": [
    "## Con numpy y como lista ##"
   ]
  },
  {
   "cell_type": "code",
   "execution_count": null,
   "metadata": {
    "hidden": true
   },
   "outputs": [],
   "source": [
    "import csv"
   ]
  },
  {
   "cell_type": "code",
   "execution_count": null,
   "metadata": {
    "hidden": true
   },
   "outputs": [],
   "source": [
    "with open(\"winemag-data-less.csv\", \"r\", encoding=\"latin-1\") as f:\n",
    "    wines = list(csv.reader(f))"
   ]
  },
  {
   "cell_type": "code",
   "execution_count": null,
   "metadata": {
    "hidden": true
   },
   "outputs": [],
   "source": [
    "wines[:]"
   ]
  },
  {
   "cell_type": "code",
   "execution_count": null,
   "metadata": {
    "hidden": true
   },
   "outputs": [],
   "source": [
    "vinos=[]"
   ]
  },
  {
   "cell_type": "code",
   "execution_count": null,
   "metadata": {
    "hidden": true
   },
   "outputs": [],
   "source": [
    "for l in wines:\n",
    "    vinos.append(l[4])"
   ]
  },
  {
   "cell_type": "code",
   "execution_count": null,
   "metadata": {
    "hidden": true
   },
   "outputs": [],
   "source": [
    "vinos.pop(0)"
   ]
  },
  {
   "cell_type": "code",
   "execution_count": null,
   "metadata": {
    "hidden": true
   },
   "outputs": [],
   "source": [
    "scores = [float(w) for w in vinos]"
   ]
  },
  {
   "cell_type": "code",
   "execution_count": null,
   "metadata": {
    "hidden": true
   },
   "outputs": [],
   "source": [
    "mean(scores)"
   ]
  },
  {
   "cell_type": "code",
   "execution_count": null,
   "metadata": {
    "hidden": true
   },
   "outputs": [],
   "source": [
    "std(scores)"
   ]
  },
  {
   "cell_type": "code",
   "execution_count": null,
   "metadata": {
    "hidden": true
   },
   "outputs": [],
   "source": [
    "plt.hist(scores)\n",
    "plt.show()"
   ]
  },
  {
   "cell_type": "markdown",
   "metadata": {
    "heading_collapsed": true,
    "hidden": true
   },
   "source": [
    "## Con Pandas ##"
   ]
  },
  {
   "cell_type": "code",
   "execution_count": null,
   "metadata": {
    "hidden": true
   },
   "outputs": [],
   "source": [
    "vin = pd.read_csv(\"winemag-data-less.csv\")"
   ]
  },
  {
   "cell_type": "markdown",
   "metadata": {
    "hidden": true
   },
   "source": [
    "Veamos la estructura de nuestro conjunto de datos."
   ]
  },
  {
   "cell_type": "code",
   "execution_count": null,
   "metadata": {
    "hidden": true
   },
   "outputs": [],
   "source": [
    "vin.head()"
   ]
  },
  {
   "cell_type": "markdown",
   "metadata": {
    "hidden": true
   },
   "source": [
    "Hay que eliminar la primer columna."
   ]
  },
  {
   "cell_type": "code",
   "execution_count": null,
   "metadata": {
    "hidden": true
   },
   "outputs": [],
   "source": [
    "vin=vin.drop(\"Unnamed: 0\", axis=1)"
   ]
  },
  {
   "cell_type": "markdown",
   "metadata": {
    "hidden": true
   },
   "source": [
    "Veamos los tipos de nuestras columnas."
   ]
  },
  {
   "cell_type": "code",
   "execution_count": null,
   "metadata": {
    "hidden": true
   },
   "outputs": [],
   "source": [
    "vin.info()"
   ]
  },
  {
   "cell_type": "markdown",
   "metadata": {
    "hidden": true
   },
   "source": [
    "Veamos los primeros datos de la columna points."
   ]
  },
  {
   "cell_type": "code",
   "execution_count": null,
   "metadata": {
    "hidden": true
   },
   "outputs": [],
   "source": [
    "vin['points'][:].head()"
   ]
  },
  {
   "cell_type": "markdown",
   "metadata": {
    "hidden": true
   },
   "source": [
    "Ahora veamos una descripción estadística de points."
   ]
  },
  {
   "cell_type": "code",
   "execution_count": null,
   "metadata": {
    "hidden": true
   },
   "outputs": [],
   "source": [
    "vin['points'].describe()"
   ]
  },
  {
   "cell_type": "markdown",
   "metadata": {
    "hidden": true
   },
   "source": [
    "La varianza de pandas sí divide entre $n-1$. Ver la [documentación](https://pandas.pydata.org/pandas-docs/stable/reference/api/pandas.DataFrame.var.html)"
   ]
  },
  {
   "cell_type": "markdown",
   "metadata": {
    "hidden": true
   },
   "source": [
    "Ahora podemos ver otra columna."
   ]
  },
  {
   "cell_type": "code",
   "execution_count": null,
   "metadata": {
    "hidden": true
   },
   "outputs": [],
   "source": [
    "vin['country'][:].head()"
   ]
  },
  {
   "cell_type": "markdown",
   "metadata": {
    "hidden": true
   },
   "source": [
    "Si deseamos ver un solo renglón."
   ]
  },
  {
   "cell_type": "code",
   "execution_count": null,
   "metadata": {
    "hidden": true
   },
   "outputs": [],
   "source": [
    "print(vin.loc[0])"
   ]
  },
  {
   "cell_type": "markdown",
   "metadata": {
    "hidden": true
   },
   "source": [
    "Podemos crear una lista con los índices de los vinos cuya puntuación sea mayor que media."
   ]
  },
  {
   "cell_type": "code",
   "execution_count": null,
   "metadata": {
    "hidden": true
   },
   "outputs": [],
   "source": [
    "temp=vin.index[vin['points']>vin['points'].mean()].tolist()"
   ]
  },
  {
   "cell_type": "code",
   "execution_count": null,
   "metadata": {
    "hidden": true
   },
   "outputs": [],
   "source": [
    "len(temp),len(vin)"
   ]
  },
  {
   "cell_type": "code",
   "execution_count": null,
   "metadata": {
    "hidden": true
   },
   "outputs": [],
   "source": [
    "for i in range(5):\n",
    "    print(vin.loc[temp[i]])\n",
    "    print('---------------------------')"
   ]
  },
  {
   "cell_type": "markdown",
   "metadata": {
    "heading_collapsed": true
   },
   "source": [
    "# Housing #"
   ]
  },
  {
   "cell_type": "code",
   "execution_count": null,
   "metadata": {
    "hidden": true
   },
   "outputs": [],
   "source": []
  },
  {
   "cell_type": "code",
   "execution_count": null,
   "metadata": {
    "hidden": true
   },
   "outputs": [],
   "source": [
    "df = pd.read_csv(\"MELBOURNE_HOUSE_PRICES_LESS.csv\")"
   ]
  },
  {
   "cell_type": "code",
   "execution_count": null,
   "metadata": {
    "hidden": true
   },
   "outputs": [],
   "source": [
    "df.head()"
   ]
  },
  {
   "cell_type": "code",
   "execution_count": null,
   "metadata": {
    "hidden": true
   },
   "outputs": [],
   "source": [
    "df.info()"
   ]
  },
  {
   "cell_type": "code",
   "execution_count": null,
   "metadata": {
    "hidden": true
   },
   "outputs": [],
   "source": [
    "promedio = df['Price'].mean()"
   ]
  },
  {
   "cell_type": "code",
   "execution_count": null,
   "metadata": {
    "hidden": true
   },
   "outputs": [],
   "source": [
    "promedio"
   ]
  },
  {
   "cell_type": "code",
   "execution_count": null,
   "metadata": {
    "hidden": true
   },
   "outputs": [],
   "source": [
    "mediana= df['Price'].median()"
   ]
  },
  {
   "cell_type": "code",
   "execution_count": null,
   "metadata": {
    "hidden": true
   },
   "outputs": [],
   "source": [
    "mediana"
   ]
  },
  {
   "cell_type": "code",
   "execution_count": null,
   "metadata": {
    "hidden": true
   },
   "outputs": [],
   "source": [
    "desvest= df['Price'].std()"
   ]
  },
  {
   "cell_type": "code",
   "execution_count": null,
   "metadata": {
    "hidden": true
   },
   "outputs": [],
   "source": [
    "desvest"
   ]
  },
  {
   "cell_type": "code",
   "execution_count": null,
   "metadata": {
    "hidden": true
   },
   "outputs": [],
   "source": [
    "sns.set(style=\"whitegrid\")"
   ]
  },
  {
   "cell_type": "code",
   "execution_count": null,
   "metadata": {
    "hidden": true
   },
   "outputs": [],
   "source": [
    "plt.figure(figsize=(12,8))\n",
    "ax = sns.boxplot(x='Price', data=df, orient=\"v\")"
   ]
  },
  {
   "cell_type": "code",
   "execution_count": null,
   "metadata": {
    "hidden": true
   },
   "outputs": [],
   "source": [
    "plt.figure(figsize=(12,8))\n",
    "ax = sns.boxplot(x='Type', y='Price', data=df, orient=\"v\")"
   ]
  },
  {
   "cell_type": "markdown",
   "metadata": {
    "hidden": true
   },
   "source": [
    "Para eliminar renglones que no tienen datos:"
   ]
  },
  {
   "cell_type": "code",
   "execution_count": null,
   "metadata": {
    "hidden": true
   },
   "outputs": [],
   "source": [
    "filter_data = df.dropna(subset=['Price'])"
   ]
  },
  {
   "cell_type": "code",
   "execution_count": null,
   "metadata": {
    "hidden": true
   },
   "outputs": [],
   "source": [
    "plt.figure(figsize=(14,8))\n",
    "sns.distplot(filter_data['Price'], kde=False)"
   ]
  },
  {
   "cell_type": "markdown",
   "metadata": {
    "hidden": true
   },
   "source": [
    "Vamos a crear una serie que contenga el conteo de los valores únicos."
   ]
  },
  {
   "cell_type": "code",
   "execution_count": null,
   "metadata": {
    "hidden": true
   },
   "outputs": [],
   "source": [
    "type_counts = df['Type'].value_counts()"
   ]
  },
  {
   "cell_type": "code",
   "execution_count": null,
   "metadata": {
    "hidden": true
   },
   "outputs": [],
   "source": [
    "type_counts"
   ]
  },
  {
   "cell_type": "markdown",
   "metadata": {
    "hidden": true
   },
   "source": [
    "Ahora podemos crear un dataframe, para lo cual necesitamos el siguiente formato."
   ]
  },
  {
   "cell_type": "code",
   "execution_count": null,
   "metadata": {
    "hidden": true
   },
   "outputs": [],
   "source": [
    "{'house_type': type_counts}"
   ]
  },
  {
   "cell_type": "markdown",
   "metadata": {
    "hidden": true
   },
   "source": [
    "Creamos el dataframe deseado usando como indice los valores t, h, u."
   ]
  },
  {
   "cell_type": "code",
   "execution_count": null,
   "metadata": {
    "hidden": true
   },
   "outputs": [],
   "source": [
    "df2 = pd.DataFrame({'house_type': type_counts}, \n",
    "                     index = ['t', 'h', 'u']\n",
    "                   )"
   ]
  },
  {
   "cell_type": "code",
   "execution_count": null,
   "metadata": {
    "hidden": true
   },
   "outputs": [],
   "source": [
    "df2"
   ]
  },
  {
   "cell_type": "markdown",
   "metadata": {
    "hidden": true
   },
   "source": [
    "Ahora podemos crear una grafica circular."
   ]
  },
  {
   "cell_type": "code",
   "execution_count": null,
   "metadata": {
    "hidden": true
   },
   "outputs": [],
   "source": [
    "df2.plot.pie(y='house_type', figsize=(10,10), autopct='%1.1f%%')"
   ]
  },
  {
   "cell_type": "code",
   "execution_count": null,
   "metadata": {
    "hidden": true
   },
   "outputs": [],
   "source": [
    "sns.set(style='darkgrid')"
   ]
  },
  {
   "cell_type": "code",
   "execution_count": null,
   "metadata": {
    "hidden": true
   },
   "outputs": [],
   "source": [
    "plt.figure(figsize=(10,7))\n",
    "ax = sns.countplot(x='Regionname', data=df)"
   ]
  },
  {
   "cell_type": "code",
   "execution_count": null,
   "metadata": {
    "hidden": true
   },
   "outputs": [],
   "source": [
    "plt.figure(figsize=(10,7))\n",
    "ax = sns.countplot(x='Regionname', data=df)\n",
    "ax.set_xticklabels(ax.get_xticklabels(), rotation=90)\n",
    "plt.tight_layout()"
   ]
  },
  {
   "cell_type": "markdown",
   "metadata": {
    "heading_collapsed": true
   },
   "source": [
    "# Revistas científicas #"
   ]
  },
  {
   "cell_type": "code",
   "execution_count": null,
   "metadata": {
    "hidden": true
   },
   "outputs": [],
   "source": [
    "rc = pd.read_csv(\"scimagojr2018PhysicsandAstronomy.csv\",delimiter=\";\", decimal=\",\")"
   ]
  },
  {
   "cell_type": "code",
   "execution_count": null,
   "metadata": {
    "hidden": true
   },
   "outputs": [],
   "source": [
    "rc.head()"
   ]
  },
  {
   "cell_type": "code",
   "execution_count": null,
   "metadata": {
    "hidden": true
   },
   "outputs": [],
   "source": [
    "rc.info()"
   ]
  },
  {
   "cell_type": "code",
   "execution_count": null,
   "metadata": {
    "hidden": true
   },
   "outputs": [],
   "source": [
    "rc['Total Docs. (2018)'].describe()"
   ]
  },
  {
   "cell_type": "code",
   "execution_count": null,
   "metadata": {
    "hidden": true
   },
   "outputs": [],
   "source": [
    "datEst=rc['Total Docs. (2018)'].describe()"
   ]
  },
  {
   "cell_type": "code",
   "execution_count": null,
   "metadata": {
    "hidden": true
   },
   "outputs": [],
   "source": [
    "datEst['mean'],datEst['std'],datEst['std']/datEst['mean']"
   ]
  },
  {
   "cell_type": "code",
   "execution_count": null,
   "metadata": {
    "hidden": true
   },
   "outputs": [],
   "source": [
    "plt.figure(figsize=(10,7))\n",
    "sns.distplot(rc['Total Docs. (2018)'])"
   ]
  },
  {
   "cell_type": "code",
   "execution_count": null,
   "metadata": {
    "hidden": true
   },
   "outputs": [],
   "source": [
    "t=pd.DataFrame({'docs':rc['Total Docs. (2018)']})"
   ]
  },
  {
   "cell_type": "code",
   "execution_count": null,
   "metadata": {
    "hidden": true
   },
   "outputs": [],
   "source": [
    "t.mean()[0]"
   ]
  },
  {
   "cell_type": "code",
   "execution_count": null,
   "metadata": {
    "hidden": true
   },
   "outputs": [],
   "source": [
    "def momBasicos(l):\n",
    "    m=[]\n",
    "    t=pd.DataFrame({'temp':l})\n",
    "    m.append(t.mean()[0])\n",
    "    m.append(t.median()[0])\n",
    "    m.append(t.std()[0])\n",
    "    m.append(t.max()[0])\n",
    "    m.append(t.min()[0])\n",
    "    return m"
   ]
  },
  {
   "cell_type": "code",
   "execution_count": null,
   "metadata": {
    "hidden": true
   },
   "outputs": [],
   "source": [
    "descEstTotDocs=momBasicos(rc['Total Docs. (2018)'])"
   ]
  },
  {
   "cell_type": "code",
   "execution_count": null,
   "metadata": {
    "hidden": true
   },
   "outputs": [],
   "source": [
    "descEstTotDocs"
   ]
  },
  {
   "cell_type": "code",
   "execution_count": null,
   "metadata": {
    "hidden": true
   },
   "outputs": [],
   "source": [
    "rc['H index'].describe()"
   ]
  },
  {
   "cell_type": "code",
   "execution_count": null,
   "metadata": {
    "hidden": true
   },
   "outputs": [],
   "source": [
    "descEstHindex=momBasicos(rc['H index'])"
   ]
  },
  {
   "cell_type": "code",
   "execution_count": null,
   "metadata": {
    "hidden": true
   },
   "outputs": [],
   "source": [
    "descEstHindex"
   ]
  },
  {
   "cell_type": "code",
   "execution_count": null,
   "metadata": {
    "hidden": true
   },
   "outputs": [],
   "source": []
  },
  {
   "cell_type": "code",
   "execution_count": null,
   "metadata": {
    "hidden": true
   },
   "outputs": [],
   "source": [
    "rc.loc[rc['H index'].idxmax()]"
   ]
  },
  {
   "cell_type": "code",
   "execution_count": null,
   "metadata": {
    "hidden": true
   },
   "outputs": [],
   "source": [
    "rc.loc[rc['H index'].idxmin()]"
   ]
  },
  {
   "cell_type": "markdown",
   "metadata": {
    "heading_collapsed": true,
    "hidden": true
   },
   "source": [
    "## Grafica circular ##"
   ]
  },
  {
   "cell_type": "code",
   "execution_count": null,
   "metadata": {
    "hidden": true
   },
   "outputs": [],
   "source": [
    "tipos = rc['Type'].value_counts()"
   ]
  },
  {
   "cell_type": "code",
   "execution_count": null,
   "metadata": {
    "hidden": true
   },
   "outputs": [],
   "source": [
    "tipos"
   ]
  },
  {
   "cell_type": "code",
   "execution_count": null,
   "metadata": {
    "hidden": true
   },
   "outputs": [],
   "source": [
    "{'Tipo_revista': tipos}"
   ]
  },
  {
   "cell_type": "code",
   "execution_count": null,
   "metadata": {
    "hidden": true
   },
   "outputs": [],
   "source": [
    "rc2 = pd.DataFrame({'Tipo_revista': tipos}, \n",
    "                   index = ['journal', 'conference and proceedings', 'book series', 'trade journal'])"
   ]
  },
  {
   "cell_type": "code",
   "execution_count": null,
   "metadata": {
    "hidden": true
   },
   "outputs": [],
   "source": [
    "rc2"
   ]
  },
  {
   "cell_type": "code",
   "execution_count": null,
   "metadata": {
    "hidden": true
   },
   "outputs": [],
   "source": [
    "rc2.plot.pie(y='Tipo_revista', figsize=(10,10), autopct='%1.1f%%')"
   ]
  },
  {
   "cell_type": "markdown",
   "metadata": {
    "heading_collapsed": true,
    "hidden": true
   },
   "source": [
    "## Grafica de conteos ##"
   ]
  },
  {
   "cell_type": "code",
   "execution_count": null,
   "metadata": {
    "hidden": true
   },
   "outputs": [],
   "source": [
    "filter_data = rc.dropna(subset=['Total Docs. (2018)'])"
   ]
  },
  {
   "cell_type": "code",
   "execution_count": null,
   "metadata": {
    "hidden": true
   },
   "outputs": [],
   "source": []
  },
  {
   "cell_type": "code",
   "execution_count": null,
   "metadata": {
    "hidden": true
   },
   "outputs": [],
   "source": [
    "plt.figure(figsize=(10,7))#ancho,alto\n",
    "ax = sns.countplot(x='Country', data=rc)\n",
    "ax.set_xticklabels(ax.get_xticklabels(), rotation=90)\n",
    "plt.tight_layout()"
   ]
  }
 ],
 "metadata": {
  "kernelspec": {
   "display_name": "Python 3",
   "language": "python",
   "name": "python3"
  },
  "language_info": {
   "codemirror_mode": {
    "name": "ipython",
    "version": 3
   },
   "file_extension": ".py",
   "mimetype": "text/x-python",
   "name": "python",
   "nbconvert_exporter": "python",
   "pygments_lexer": "ipython3",
   "version": "3.7.3"
  }
 },
 "nbformat": 4,
 "nbformat_minor": 2
}
