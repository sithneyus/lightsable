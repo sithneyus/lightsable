{
 "cells": [
  {
   "cell_type": "markdown",
   "metadata": {},
   "source": [
    "# Análisis estadístico de datos.  #\n",
    "* Estadística Descriptiva.\n",
    "* Teoría muestral. \n",
    "* Estimación estadística. \n",
    "* Decisión estadística. \n",
    "* Aprendizaje estadístico.\n"
   ]
  },
  {
   "cell_type": "markdown",
   "metadata": {},
   "source": [
    "<a href=\"https://colab.research.google.com/github/sithneyus/lightsable/blob/master/Estad%C3%ADstica%20Descriptiva.ipynb\" target=\"_parent\"><img src=\"https://colab.research.google.com/assets/colab-badge.svg\" alt=\"Open In Colab\"/></a>"
   ]
  },
  {
   "cell_type": "markdown",
   "metadata": {},
   "source": [
    "La **estadística** es una área de conocimiento que trata con la colección, análisis, interpretación y presentación de datos.\n",
    "\n",
    "La **estadística descriptiva** es el cálculo de varias medidas estadísticas y el uso de gráficas y tablas para organizar y resumir información."
   ]
  },
  {
   "cell_type": "markdown",
   "metadata": {},
   "source": [
    "# Introducción a la estadística descriptiva. #"
   ]
  },
  {
   "cell_type": "markdown",
   "metadata": {},
   "source": [
    "Algunos conceptos básicos.\n",
    "\n",
    "**Población**. También denominada población objetivo, de referencia o de estudio, es el conjunto que se \n",
    "desea estudiar. Comprende a todos los miembros de interés y en muchas ocasiones no está disponible en \n",
    "su totalidad para ser analizada.\n",
    "\n",
    "Un ***parámetro*** es una propiedad numérica de una población.\n",
    "\n",
    "Empezaremos usando una lista de números de la cual calcularemos\n",
    "\n",
    "- el rango, \n",
    "- la media, \n",
    "- la mediana, \n",
    "- la moda, \n",
    "- la varianza y \n",
    "- la desviación estándar,\n",
    "- los z-scores,\n",
    "- los percentiles y cuartiles,\n",
    "- la boxplot.\n",
    "\n",
    "Para poder calcular cualquier propiedad de un conjunto de datos es necesario conocer la definición de \n",
    "dicha propiedad. Así, tenemos que \n",
    "\n",
    "### Teoría {\n",
    "El $\\color{red}{\\text{rango}}$ es la diferencia entre el número mayor y el número menor. Esto es, si los datos son $dat=\\{x_1,x_2,\\ldots,x_n\\}$, entonces\n",
    "\n",
    "$rango(dat)=max(dat)-min(dat)$\n",
    "\n",
    "\n",
    "### Teoría {\n",
    "La $\\color{red}{\\text{media}}$ de un conjunto de números $\\{x_1,\\ldots,x_n\\}$ está dada por\n",
    "\n",
    "$\\bar{x}=\\frac{1}{n}\\left(x_1+x_2+\\cdots+x_n\\right)=\\frac{1}{n}\\sum_{i=1}^n x_i.$\n",
    "\n",
    "### }\n",
    "\n",
    "La media es una cantidad cuyo valor es una medida alrededor de la cual la mayoría de los demás números \n",
    "están ubicados (suponiendo una distribución normal que se verá más adelante).\n",
    "\n",
    "Primero resulta útil importar los paquetes que usaremos:"
   ]
  },
  {
   "cell_type": "code",
   "execution_count": null,
   "metadata": {},
   "outputs": [],
   "source": [
    "from numpy import *\n",
    "import pandas as pd\n",
    "import matplotlib.pyplot as plt\n",
    "import seaborn as sns\n",
    "import statistics as st"
   ]
  },
  {
   "cell_type": "markdown",
   "metadata": {},
   "source": [
    "Seaborn es una librería de Python para visualización de datos basada en matplotlib. Provee una interface de alto nivel para crear graficos estadísticos informativos y atractivos.\n",
    "\n",
    "[seaborn homepage](https://seaborn.pydata.org/index.html)"
   ]
  },
  {
   "cell_type": "markdown",
   "metadata": {},
   "source": [
    "Primero supongamos que se nos dan los siguientes datos."
   ]
  },
  {
   "cell_type": "code",
   "execution_count": null,
   "metadata": {},
   "outputs": [],
   "source": [
    "d=[129.81204262, 104.30796278,  89.58900713,  83.77596544,\n",
    "        75.27324095, 112.44729087, 100.95779822, 123.42914716,\n",
    "        81.78070212,  86.04964017, 109.29353402, 121.11911247,\n",
    "       102.79404206,  70.37386498, 109.73545514, 101.91071714,\n",
    "       101.93007998, 113.93797684, 112.51073709,  65.25586023,\n",
    "       111.41130465,  94.2318854 , 131.65270764,  88.71761922,\n",
    "       101.90490522,  90.00578845, 114.72374386, 113.90160592,\n",
    "        84.00543302, 129.11918477, 122.60891439,  88.82115851,\n",
    "       120.40988628,  73.86923901, 133.53687291,  71.82255687,\n",
    "        94.90867845,  82.39194264,  66.13352647, 122.07860476,\n",
    "       122.43564505,  74.54539303,  62.00157989,  87.60034464,\n",
    "        92.49970705,  93.54329447,  99.923026  ,  86.76396462,\n",
    "       131.03976911, 115.72358377,  95.49747624, 108.03582684,\n",
    "        78.67570846, 128.38726879,  65.4114793 ,  84.40059634,\n",
    "        90.31368836, 117.94451642,  98.23332746, 107.72581095,\n",
    "       114.07154541,  89.40076162, 105.04544321,  99.80760516,\n",
    "       130.53099917,  85.72204899,  93.30326349, 120.85931629,\n",
    "        99.85320106,  99.32595289, 110.57533213,  79.12055656,\n",
    "        64.6860359 , 118.77780119,  81.58590404,  91.59078674,\n",
    "        71.10523383,  74.44579404, 120.41336319, 106.20894625,\n",
    "       101.62751269,  78.56468862, 113.17901406,  79.75663314,\n",
    "        68.56807019, 103.34119488, 104.14596527,  65.84810758,\n",
    "       122.25952645, 116.82458156, 114.27407845,  71.77883858,\n",
    "       103.78716862,  90.09670389,  93.82644306, 129.26500078,\n",
    "       100.09913296,  81.17834521,  95.26218177,  84.37639755,\n",
    "        98.52217236,  73.30887616,  94.43074101,  80.4586468 ,\n",
    "       109.10552919, 124.82733325,  83.7734098 ,  87.90625437,\n",
    "        90.44162704,  79.39060888, 122.00254639, 100.64279237,\n",
    "       112.171765  ,  79.93008126,  82.68221693,  98.40281111,\n",
    "        87.43113966,  96.64697896, 112.90465697,  61.28281376,\n",
    "       105.81020619,  82.70808597,  76.23028561, 100.78997748,\n",
    "       108.62810563, 106.91027511, 116.96075227, 121.24042859,\n",
    "        96.89012953,  86.58646596, 102.86823694, 121.06399397,\n",
    "        74.45576116,  65.0739124 ,  67.23940266,  92.40854949,\n",
    "        89.84464209,  68.42340419, 117.01834109,  68.29610637,\n",
    "        67.87702008,  56.79085069,  73.84246214, 132.60981259,\n",
    "       101.30191734,  70.54469933,  82.83843462, 107.46075068,\n",
    "       102.59862165,  90.45845658, 104.66831702, 117.87171851,\n",
    "       114.32134375,  84.66793894,  76.89902137,  79.71810857,\n",
    "       115.08961345,  55.23711686, 102.43438638,  53.46260588,\n",
    "       117.60947186, 120.24406332,  78.71063671, 111.01454445,\n",
    "       103.69489418, 100.41056884,  48.97113754, 102.86811297,\n",
    "        89.54370823,  83.96207451, 108.54800075, 125.8741348 ,\n",
    "       121.50737079, 129.72643964,  77.75424567, 111.82901912,\n",
    "       109.24955065,  96.45438303, 120.59535045, 108.94952295,\n",
    "       105.77271193,  65.34169531,  77.32901544, 114.63570488,\n",
    "       104.34368107, 102.04887018,  75.62968369, 120.68573906,\n",
    "        99.67236537,  91.67472815,  95.41731703, 116.12834504,\n",
    "        91.05068059, 128.26508458, 111.25158857,  89.3831732 ,\n",
    "       121.74790506, 115.14310866,  77.51524527,  71.88243219,\n",
    "       151.92415347, 107.40639464, 121.77170079,  96.84160697,\n",
    "        62.52783239,  74.05319891, 116.08630442,  81.75017702,\n",
    "       115.98546427, 117.57343959,  95.91685768, 101.17063225,\n",
    "        97.54023633, 111.26384993,  51.5171384 ,  91.07156777,\n",
    "       101.41710617,  84.91101179,  92.00176937,  83.24432876,\n",
    "       103.81570708,  96.51990157, 127.12083304,  80.24092337,\n",
    "       129.0617074 ,  88.95644091, 116.40790767, 111.19026421,\n",
    "       123.60804698,  95.22471411, 124.37293469,  87.09664803,\n",
    "       124.39467168, 126.54024087,  73.34739986, 106.83816766,\n",
    "       105.00355815,  80.54679187, 121.36330907, 131.57367873,\n",
    "        93.81998644,  86.10772404,  65.03317049,  87.66836843,\n",
    "       117.81947276,  67.46468081,  99.972431  , 128.5072005 ,\n",
    "        85.72693325, 105.64654621, 115.21591833,  94.81291744,\n",
    "       122.55107951,  76.35254856, 102.67454121,  59.78406806,\n",
    "        72.76873793,  83.58016128, 111.64834225, 116.75858607,\n",
    "        71.13177273,  78.82654284, 139.20764515,  88.71592862,\n",
    "        83.92040539,  90.07579487, 110.8848315 ,  56.88009106,\n",
    "        95.85566266,  75.52664352,  75.92479075,  77.63900809,\n",
    "        84.03017412, 105.34505096, 106.68965844, 126.62707793,\n",
    "        94.54569749,  89.40491031,  87.9030206 ,  96.87354907,\n",
    "       120.26550931, 100.47764774,  72.05185878,  97.64104327,\n",
    "        92.00265781,  91.62289126, 107.89500791,  99.51159781,\n",
    "       102.0061989 , 104.56543994, 140.96146703,  87.93866647,\n",
    "       138.1343219 , 109.08189972,  91.1055644 ,  80.90668213,\n",
    "       103.90870292,  98.01498812, 102.42537623,  75.58061782,\n",
    "       105.74236251,  88.13298817, 147.71137544,  91.71701818,\n",
    "        91.81230931, 138.12252414, 111.90177376, 105.92655598,\n",
    "       103.2314144 ,  59.9740883 ,  68.02180528,  55.67680142,\n",
    "       125.82304296, 100.8646337 , 137.77628711, 106.6710917 ,\n",
    "        95.65913166,  69.23811457,  55.4268702 , 116.85213176,\n",
    "        92.81100401, 114.04647555,  85.83305575, 117.10466475,\n",
    "       104.85441422, 104.00409852,  90.29949598, 117.07385547,\n",
    "        87.99360751,  77.45587801,  94.87557151,  88.50385753,\n",
    "        96.7455823 , 111.91144389,  88.66823562,  98.19513859,\n",
    "        70.04779019, 118.06996933, 107.47663441,  70.85455541,\n",
    "        87.28093585, 114.18580095,  91.74992945,  91.31160205,\n",
    "        94.0214078 ,  89.01982453,  92.17425487, 105.06651471,\n",
    "       134.2464798 , 115.72664668, 114.38767939, 135.75772347,\n",
    "       121.21977461, 117.40846544,  97.95439472,  88.00984156,\n",
    "        87.93327984, 116.00173421, 136.68112393, 105.91106293,\n",
    "       103.49947499,  90.75710689,  98.04713963, 118.66063575,\n",
    "       104.26651262, 133.70636247, 106.63127126,  81.88145065,\n",
    "       111.47120047,  77.21803856,  92.01940142, 113.68954523,\n",
    "       126.28325807, 112.79533023, 101.93118223, 101.7082372 ,\n",
    "        76.70709163, 106.77749551,  83.92536083, 118.26561715,\n",
    "       116.6654935 , 114.25021207,  95.08948182,  77.87494896,\n",
    "       123.14751136, 102.72243002, 131.04713459,  95.16253745,\n",
    "        85.98660372,  98.11110939,  84.12160087, 120.99864547,\n",
    "       136.74932217, 129.58435745,  84.51762579, 102.75768892,\n",
    "       117.68119577, 135.89262632, 110.56001711,  72.60419874,\n",
    "       144.69356606,  80.37060163, 100.90183778,  95.96486199,\n",
    "       120.147937  ,  72.66300676, 121.38943797,  90.98439955,\n",
    "        84.21161399, 114.19449264, 113.37105318, 113.10300787,\n",
    "       117.98789901,  93.84708592, 119.12884942, 135.05376864,\n",
    "        93.68908326, 105.02314507, 115.28220126, 114.17584815,\n",
    "        63.09833688,  98.58432053, 107.62879292, 135.50516358,\n",
    "        97.25999059, 109.77613079,  98.96731145,  72.0092161 ,\n",
    "        85.9092735 ,  74.05630027, 107.44360538, 101.7054152 ,\n",
    "       118.12881779,  80.96065773, 145.16241747,  92.75647584,\n",
    "       124.17272066,  74.97291577, 105.86132032, 103.07426164,\n",
    "        94.9111745 , 112.86752814, 103.0800932 ,  86.29676159,\n",
    "       111.04124097, 134.00367015,  80.7242445 ,  97.10745797,\n",
    "       140.0517445 , 132.78342504, 101.64894369, 119.29030665,\n",
    "        59.96903554, 118.78722837,  77.82827157,  91.5988809 ,\n",
    "        78.76223199, 116.99867485, 112.79382366, 107.24957542,\n",
    "        83.11698496,  85.63734457,  76.48717873, 107.99471692,\n",
    "        79.17456247,  82.56132496,  90.06176604, 108.19156367,\n",
    "        96.24728661,  99.9718939 ,  53.77612117,  88.46815929,\n",
    "        83.48220077, 100.87434148,  94.14282183,  89.67512292,\n",
    "       121.0808599 ,  87.51075883,  82.30139372, 120.70035019,\n",
    "       136.69987507, 111.8345198 , 113.49568055, 114.92667612,\n",
    "       141.02144042,  68.12400128, 123.95133169,  93.45379256,\n",
    "        88.69247988, 107.01828078,  85.75939975, 118.98820761,\n",
    "       105.5060645 , 117.4012068 ,  95.59420413,  59.03965885,\n",
    "        68.96041457, 109.55282299, 100.88453512,  85.21187777]"
   ]
  },
  {
   "cell_type": "markdown",
   "metadata": {},
   "source": [
    "Ahora vamos a calcular el rango y la media usando directamente las definiciones:"
   ]
  },
  {
   "cell_type": "code",
   "execution_count": null,
   "metadata": {},
   "outputs": [],
   "source": [
    "ma=max(d)\n",
    "mi=min(d)\n",
    "print(ma,mi)\n",
    "rango=ma-mi\n",
    "print(rango)"
   ]
  },
  {
   "cell_type": "code",
   "execution_count": null,
   "metadata": {},
   "outputs": [],
   "source": [
    "n=len(d)\n",
    "xb=sum(d)/float(n) #La funcion sum realiza la sumatoria de los elementos de la lista x\n",
    "print(xb)"
   ]
  },
  {
   "cell_type": "markdown",
   "metadata": {},
   "source": [
    "Ahora podemos calcular las dos principales medidas de dispersión: la varianza y la desviación estándar. \n",
    "\n",
    "### Teoría {\n",
    "La $\\color{red}{\\text{varianza}}$ de un conjunto de números $\\{x_1,\\ldots,x_n\\}$ está dada por\n",
    "\n",
    "$s=\\frac{1}{n}\\sum_{i=1}^n (x_i-\\bar{x})^2.$\n",
    "\n",
    "Y la $\\color{red}{\\text{desviación estándar}}$ es\n",
    "\n",
    "$de=\\sqrt{s}.$\n",
    "\n",
    "### }"
   ]
  },
  {
   "cell_type": "code",
   "execution_count": null,
   "metadata": {},
   "outputs": [],
   "source": [
    "s=0.0\n",
    "for i in d:\n",
    "    s=s+(i-xb)**2\n",
    "s=s/(n)\n",
    "print(\"Varianza = \",s)\n",
    "de=sqrt(s)\n",
    "print('Desv. est. = ',de)"
   ]
  },
  {
   "cell_type": "markdown",
   "metadata": {
    "heading_collapsed": true
   },
   "source": [
    "## Ahora usando numpy.\n"
   ]
  },
  {
   "cell_type": "code",
   "execution_count": null,
   "metadata": {
    "hidden": true
   },
   "outputs": [],
   "source": [
    "med=mean(d)\n",
    "print(med,xb)"
   ]
  },
  {
   "cell_type": "code",
   "execution_count": null,
   "metadata": {
    "hidden": true
   },
   "outputs": [],
   "source": [
    "varianza=var(d)\n",
    "print(varianza,s)\n",
    "des=std(d)\n",
    "print(des,de)"
   ]
  },
  {
   "cell_type": "markdown",
   "metadata": {
    "hidden": true
   },
   "source": [
    "Con estos resultados confirmamos que los resultados obtenidos con las funciones de numpy coinciden con las obtenidas de manera directa implementando las fórmulas de estadística.\n",
    "\n",
    "## Conclusión\n",
    "\n",
    "Siempre que sea necesario hacer un cálculo numérico, después de leer la teoría al respecto hay que investigar si ya hay algún paquete de python que lo realice. Esto permite ahorrar tiempo y esfuerzo.\n",
    "\n",
    "\n",
    "## Interpretación de los resultados.\n",
    "\n",
    "Ya que conocemos la media y la desviación estándar de un conjunto de datos, debemos tener en mente qué es lo que significan. Para esto, veamos primero el histograma de nuestro conjunto de datos. \n",
    "\n",
    "### Teoría {\n",
    "Un $\\color{red}{\\text{histograma}}$ es una gráfica que muestra las clases (en que se dividen los datos) en el eje $x$ y las frecuencias en el eje $y$.\n",
    "### }\n",
    "\n",
    "La forma de construir los bins depende del rango de nuestros datos, pero por el momento usaremos la opción automática de la función."
   ]
  },
  {
   "cell_type": "code",
   "execution_count": null,
   "metadata": {
    "hidden": true
   },
   "outputs": [],
   "source": [
    "plt.hist(d, bins='auto', edgecolor='k')\n",
    "plt.show()"
   ]
  },
  {
   "cell_type": "markdown",
   "metadata": {
    "hidden": true
   },
   "source": [
    "\n",
    "La altura de cada rectángulo representa la frecuencia del bin correspondiente al valor sobre el cual está la base del rectángulo. Así podemos ver que los bins más frecuentes están alrededor de 100. Esto es lo que nos indica el valor de la media que obtuvimos anteriormente. \n",
    "\n",
    "Esto es, la media es el valor alrededor del cual están la mayoría de los datos. Por otra parte la desviación estándar es la media de las distancias de los datos con respecto a la media de los datos.\n",
    "\n",
    "Hay otros dos parámetros que se pueden calcular para describir estadísticamente un conjunto de datos. Estos son la mediana y la moda.\n",
    "\n",
    "### Teoría {\n",
    "\n",
    "Sea $A=\\{a_1,a_2,\\ldots,a_n\\}$, entonces \n",
    "\n",
    "$\n",
    "mediana(A)=\\begin{cases}\n",
    "a_{(n+1)/2} & \\text{ si } n\\mod 2 \\neq 0 \\\\\n",
    "\\frac{a_{k}+a_{k+1}}{2} & \\text{ si } n\\mod 2=0.  \n",
    "\\end{cases}\n",
    "$\n",
    "\n",
    "con $k=n/2$.\n",
    "### }"
   ]
  },
  {
   "cell_type": "code",
   "execution_count": null,
   "metadata": {
    "hidden": true
   },
   "outputs": [],
   "source": [
    "print(median(d))"
   ]
  },
  {
   "cell_type": "markdown",
   "metadata": {
    "hidden": true
   },
   "source": [
    "La mediana resulta un parámetro importante ya que permite checar una propiedad muy simple que caracteriza a las distribuciones normales. En toda distribución normal se tiene que \n",
    "\n",
    "$mediana=media$"
   ]
  },
  {
   "cell_type": "code",
   "execution_count": null,
   "metadata": {
    "hidden": true
   },
   "outputs": [],
   "source": [
    "print(med)"
   ]
  },
  {
   "cell_type": "markdown",
   "metadata": {
    "hidden": true
   },
   "source": [
    "Aunque ambas son similares en su valor entero, no son lo suficientemente cercanas para garantizar que tenemos datos de una distribución normal.\n",
    "\n",
    "### Teoría {\n",
    "\n",
    "La $\\color{red}{\\text{moda}}$ es el valor más frecuente de la sucesión.\n",
    "\n",
    "### }"
   ]
  },
  {
   "cell_type": "markdown",
   "metadata": {
    "hidden": true
   },
   "source": [
    "Para calcular la moda se puede usar una función del paquete \"statistics\"."
   ]
  },
  {
   "cell_type": "code",
   "execution_count": null,
   "metadata": {
    "hidden": true
   },
   "outputs": [],
   "source": [
    "print(st.mode(d))"
   ]
  },
  {
   "cell_type": "markdown",
   "metadata": {
    "hidden": true
   },
   "source": [
    "El $\\color{red}{\\text{coeficiente de variación}}$ está dado por\n",
    "\n",
    "$CV=\\frac{s}{\\bar{x}}$"
   ]
  },
  {
   "cell_type": "code",
   "execution_count": null,
   "metadata": {
    "hidden": true
   },
   "outputs": [],
   "source": [
    "cv=100*(des/med)"
   ]
  },
  {
   "cell_type": "code",
   "execution_count": null,
   "metadata": {
    "hidden": true
   },
   "outputs": [],
   "source": [
    "cv"
   ]
  },
  {
   "cell_type": "code",
   "execution_count": null,
   "metadata": {
    "hidden": true
   },
   "outputs": [],
   "source": [
    "med,min(d),max(d)"
   ]
  },
  {
   "cell_type": "code",
   "execution_count": null,
   "metadata": {
    "hidden": true
   },
   "outputs": [],
   "source": [
    "abs(des-min(d))/med"
   ]
  },
  {
   "cell_type": "code",
   "execution_count": null,
   "metadata": {
    "hidden": true
   },
   "outputs": [],
   "source": [
    "w=[90,100,110]\n",
    "wp=mean(w)\n",
    "wde=std(w)\n",
    "w,wp,wde"
   ]
  },
  {
   "cell_type": "code",
   "execution_count": null,
   "metadata": {
    "hidden": true
   },
   "outputs": [],
   "source": [
    "suma=0\n",
    "for i in w:\n",
    "    suma=suma+(i-wp)**2\n",
    "vari=suma/2\n",
    "desvi=sqrt(vari)\n",
    "desvi"
   ]
  },
  {
   "cell_type": "markdown",
   "metadata": {
    "hidden": true
   },
   "source": [
    "¡¿Qué pasó?! \n",
    "\n",
    "Esta diferencia entre la varianza nos daría un diferencia también en el coeficiente de variación."
   ]
  },
  {
   "cell_type": "code",
   "execution_count": null,
   "metadata": {
    "hidden": true
   },
   "outputs": [],
   "source": [
    "100*(wde/wp),100*(desvi/wp)"
   ]
  },
  {
   "cell_type": "code",
   "execution_count": null,
   "metadata": {
    "hidden": true
   },
   "outputs": [],
   "source": [
    "wde2=std(w,ddof=1)\n",
    "wde2"
   ]
  },
  {
   "cell_type": "code",
   "execution_count": null,
   "metadata": {
    "hidden": true
   },
   "outputs": [],
   "source": [
    "w2=[80,90,100,110,120]\n",
    "w2p=mean(w)\n",
    "w2de=std(w,ddof=1)\n",
    "cv2=w2de/w2p\n",
    "w2,w2p,w2de,cv2"
   ]
  },
  {
   "cell_type": "markdown",
   "metadata": {
    "hidden": true
   },
   "source": [
    "[varianza de numpy](https://het.as.utexas.edu/HET/Software/Numpy/reference/generated/numpy.var.html)"
   ]
  },
  {
   "cell_type": "code",
   "execution_count": null,
   "metadata": {
    "hidden": true
   },
   "outputs": [],
   "source": [
    "import scipy as sp"
   ]
  },
  {
   "cell_type": "code",
   "execution_count": null,
   "metadata": {
    "hidden": true
   },
   "outputs": [],
   "source": []
  },
  {
   "cell_type": "markdown",
   "metadata": {
    "hidden": true
   },
   "source": [
    "El $\\color{red}{\\text{z-score}}$ de un dato $x$ es el número de desviaciones estándar, por arriba o por abajo, a las que está $x$. Está dado por\n",
    "\n",
    "$z=\\frac{x-\\bar{x}}{s}$"
   ]
  },
  {
   "cell_type": "code",
   "execution_count": null,
   "metadata": {
    "hidden": true
   },
   "outputs": [],
   "source": [
    "z=[]\n",
    "for i in d:\n",
    "    z.append((i-med)/des)"
   ]
  },
  {
   "cell_type": "code",
   "execution_count": null,
   "metadata": {
    "hidden": true
   },
   "outputs": [],
   "source": [
    "plt.figure(figsize=(15,7))#ancho,alto\n",
    "plt.plot(z, 'o')"
   ]
  },
  {
   "cell_type": "code",
   "execution_count": null,
   "metadata": {
    "hidden": true
   },
   "outputs": [],
   "source": [
    "plt.hist(z,bins='auto',edgecolor='k')\n",
    "plt.show()"
   ]
  },
  {
   "cell_type": "code",
   "execution_count": null,
   "metadata": {
    "hidden": true
   },
   "outputs": [],
   "source": [
    "max(z),min(z)"
   ]
  },
  {
   "cell_type": "markdown",
   "metadata": {
    "hidden": true
   },
   "source": [
    "Los $\\color{red}{\\text{percentiles}}$ son valores que dividen un conjunto de datos ordenados en 100 partes iguales. El p-ésimo percentil de un conjunto de datos es un valor tal que al menos p por ciento de las observaciones toman este valor o menos y al menos (100-p) por ciento de las observaciones toman este valor o más."
   ]
  },
  {
   "cell_type": "code",
   "execution_count": null,
   "metadata": {
    "hidden": true
   },
   "outputs": [],
   "source": [
    "min(d),max(d)"
   ]
  },
  {
   "cell_type": "code",
   "execution_count": null,
   "metadata": {
    "hidden": true
   },
   "outputs": [],
   "source": [
    "percentile(d,10)"
   ]
  },
  {
   "cell_type": "code",
   "execution_count": null,
   "metadata": {
    "hidden": true
   },
   "outputs": [],
   "source": [
    "Q1=quantile(d,0.25)"
   ]
  },
  {
   "cell_type": "code",
   "execution_count": null,
   "metadata": {
    "hidden": true
   },
   "outputs": [],
   "source": [
    "Q3=quantile(d,0.75)"
   ]
  },
  {
   "cell_type": "code",
   "execution_count": null,
   "metadata": {
    "hidden": true
   },
   "outputs": [],
   "source": [
    "Q1,Q3"
   ]
  },
  {
   "cell_type": "code",
   "execution_count": null,
   "metadata": {
    "hidden": true
   },
   "outputs": [],
   "source": [
    "IQR=Q3-Q1"
   ]
  },
  {
   "cell_type": "code",
   "execution_count": null,
   "metadata": {
    "hidden": true
   },
   "outputs": [],
   "source": [
    "IQR"
   ]
  },
  {
   "cell_type": "markdown",
   "metadata": {
    "hidden": true
   },
   "source": [
    "Una $\\color{red}{\\text{boxplot}}$ es una grafica en la cual se construye una caja de Q1 a Q3 la cual contiene el 50% de los datos. Se dibujan dos lineas, llamadas bigotes. La primera desde el dato mínimo hasta Q1 y la segunda desde Q3 hasta el dato máximo. Además se dibuja una linea dentro de la caja perpendicular a los bigotes que corresponde a la mediana."
   ]
  },
  {
   "cell_type": "code",
   "execution_count": null,
   "metadata": {
    "hidden": true
   },
   "outputs": [],
   "source": [
    "plt.figure(figsize=(12,7))#ancho,alto\n",
    "sns.boxplot(x=None, data=d, orient=\"h\")"
   ]
  },
  {
   "cell_type": "markdown",
   "metadata": {
    "heading_collapsed": true
   },
   "source": [
    "# El caso del desempleo #"
   ]
  },
  {
   "cell_type": "markdown",
   "metadata": {
    "hidden": true
   },
   "source": [
    "Vamos a explorar un archivo de datos que contiene información sobre el desempleo a nivel mundial."
   ]
  },
  {
   "cell_type": "code",
   "execution_count": null,
   "metadata": {
    "hidden": true
   },
   "outputs": [],
   "source": [
    "datos=pd.read_csv(\"desempleo_mundial.csv\", index_col=0)"
   ]
  },
  {
   "cell_type": "code",
   "execution_count": null,
   "metadata": {
    "hidden": true
   },
   "outputs": [],
   "source": [
    "datos.head()"
   ]
  },
  {
   "cell_type": "markdown",
   "metadata": {
    "hidden": true
   },
   "source": [
    "Estos datos corresponden al porcentaje anual de la población en situación de desempleo en un periódo de 1991 a 2010."
   ]
  },
  {
   "cell_type": "code",
   "execution_count": null,
   "metadata": {
    "hidden": true
   },
   "outputs": [],
   "source": [
    "datos.loc['Angola']"
   ]
  },
  {
   "cell_type": "code",
   "execution_count": null,
   "metadata": {
    "hidden": true
   },
   "outputs": [],
   "source": [
    "plt.figure(figsize=(15,7))#ancho,alto\n",
    "plt.plot(datos.loc['Angola'])\n",
    "plt.plot(datos.loc['Albania'])"
   ]
  },
  {
   "cell_type": "code",
   "execution_count": null,
   "metadata": {
    "hidden": true
   },
   "outputs": [],
   "source": [
    "mean(datos.loc['Angola']),median(datos.loc['Angola'])"
   ]
  },
  {
   "cell_type": "markdown",
   "metadata": {
    "hidden": true
   },
   "source": [
    "¿Una diferencia tan clara entre la media y la mediana nos permite afirmar que no es una distribución normal? Ahora veamos la desviación estándar."
   ]
  },
  {
   "cell_type": "code",
   "execution_count": null,
   "metadata": {
    "hidden": true
   },
   "outputs": [],
   "source": [
    "std(datos.loc['Angola'])"
   ]
  },
  {
   "cell_type": "code",
   "execution_count": null,
   "metadata": {
    "hidden": true
   },
   "outputs": [],
   "source": [
    "plt.hist(datos.loc['Angola'],bins='auto',edgecolor='k')\n",
    "plt.show()"
   ]
  },
  {
   "cell_type": "code",
   "execution_count": null,
   "metadata": {
    "hidden": true
   },
   "outputs": [],
   "source": [
    "plt.hist(datos.loc['Angola'],bins=7,edgecolor='k')\n",
    "plt.show()"
   ]
  },
  {
   "cell_type": "markdown",
   "metadata": {
    "hidden": true
   },
   "source": [
    "Vamos a empezar analizando que tan bien se pueden echar volados usando python. Para lo cual necesitamos un generador de números aleatorios. Un paquete que da algunas funciones para lograr dicho objetivo es el siguiente:"
   ]
  },
  {
   "cell_type": "markdown",
   "metadata": {
    "heading_collapsed": true
   },
   "source": [
    "# Pequeño experimento con aleatorios #"
   ]
  },
  {
   "cell_type": "code",
   "execution_count": null,
   "metadata": {
    "hidden": true
   },
   "outputs": [],
   "source": [
    "import random"
   ]
  },
  {
   "cell_type": "markdown",
   "metadata": {
    "hidden": true
   },
   "source": [
    "Ahora vamos a definir una función que genere 100 números aleatorios en el intervalo $[0,1)$ y contará cuantos cumplen que su valor sea menor o igual a $1/2$. Para lo cual usaremos la función random(), ver [random.](https://docs.python.org/3/library/random.html)"
   ]
  },
  {
   "cell_type": "code",
   "execution_count": null,
   "metadata": {
    "hidden": true
   },
   "outputs": [],
   "source": [
    "def soles():\n",
    "    s = 0\n",
    "    for i in range(100):\n",
    "        if random.random() <= 0.5:\n",
    "            s+=1\n",
    "    return s"
   ]
  },
  {
   "cell_type": "code",
   "execution_count": null,
   "metadata": {
    "hidden": true
   },
   "outputs": [],
   "source": [
    "for i in range(10):\n",
    "    print(soles())"
   ]
  },
  {
   "cell_type": "markdown",
   "metadata": {
    "hidden": true
   },
   "source": [
    "Es interesante determinar cuántos soles aparecen en $n$ ensayos de 100 volados. La siguiente función nos permitirá realizar esta prueba."
   ]
  },
  {
   "cell_type": "code",
   "execution_count": null,
   "metadata": {
    "hidden": true
   },
   "outputs": [],
   "source": [
    "def volados(n):\n",
    "    ensayos = []\n",
    "    for i in range(n):\n",
    "        ensayos.append(soles())\n",
    "    return(sum(ensayos)/n)"
   ]
  },
  {
   "cell_type": "markdown",
   "metadata": {
    "hidden": true
   },
   "source": [
    "Esta función regresa el promedio de soles en $n$ ensayos."
   ]
  },
  {
   "cell_type": "code",
   "execution_count": null,
   "metadata": {
    "hidden": true
   },
   "outputs": [],
   "source": [
    "volados(10),volados(10^2),volados(10^3),volados(10^4),volados(10^5)"
   ]
  },
  {
   "cell_type": "code",
   "execution_count": null,
   "metadata": {
    "hidden": true
   },
   "outputs": [],
   "source": [
    "volados(10),volados(10^2),volados(10^3),volados(10^4),volados(10^5)"
   ]
  },
  {
   "cell_type": "markdown",
   "metadata": {
    "hidden": true
   },
   "source": [
    "Idealmente deberíamos obtener 50 soles y  50 águilas. Sin embargo los resultados anteriores no dejan del todo claro que nuestro generador de aleatorios cumpla con el caso ideal. Además inspeccionar números no parece ser una buena estrategia.\n",
    "\n",
    "Así, podemos crear un histograma que nos muestre cuantos soles, en promedio, obtenemos al lanzar $100$ volados, luego $200,\\ldots,100000$ "
   ]
  },
  {
   "cell_type": "code",
   "execution_count": null,
   "metadata": {
    "hidden": true
   },
   "outputs": [],
   "source": [
    "d=[]\n",
    "for i in range(1,1001):\n",
    "    d.append(volados(i))"
   ]
  },
  {
   "cell_type": "code",
   "execution_count": null,
   "metadata": {
    "hidden": true
   },
   "outputs": [],
   "source": [
    "data=pd.Series(d)\n",
    "data.plot.hist(grid=True)#, bins=20)\n",
    "plt.grid(axis='x')"
   ]
  },
  {
   "cell_type": "markdown",
   "metadata": {
    "hidden": true
   },
   "source": [
    "El resultado indica que en la mayoría de los volados se obtienen aproximadamente 50 soles.\n",
    "\n",
    "Sin embargo, podemos analizar un poco más a fondo este resultado."
   ]
  },
  {
   "cell_type": "code",
   "execution_count": null,
   "metadata": {
    "hidden": true
   },
   "outputs": [],
   "source": [
    "r1=0\n",
    "r2=0\n",
    "for i in d:\n",
    "    if(i <= 50):\n",
    "        r1+=1\n",
    "    else:\n",
    "        r2+=1\n",
    "print(r1,r2)"
   ]
  },
  {
   "cell_type": "code",
   "execution_count": null,
   "metadata": {
    "hidden": true
   },
   "outputs": [],
   "source": [
    "r1=0\n",
    "r2=0\n",
    "for i in d:\n",
    "    if(i <= 51 and i>=49):\n",
    "        r1+=1\n",
    "    else:\n",
    "        r2+=1\n",
    "print(r1,r2)"
   ]
  },
  {
   "cell_type": "code",
   "execution_count": null,
   "metadata": {
    "hidden": true
   },
   "outputs": [],
   "source": [
    "r1=0\n",
    "r2=0\n",
    "for i in d:\n",
    "    if(i <= 52 and i>=48):\n",
    "        r1+=1\n",
    "    else:\n",
    "        r2+=1\n",
    "print(r1,r2)"
   ]
  },
  {
   "cell_type": "markdown",
   "metadata": {
    "heading_collapsed": true
   },
   "source": [
    "# Vinos #"
   ]
  },
  {
   "cell_type": "markdown",
   "metadata": {
    "heading_collapsed": true,
    "hidden": true
   },
   "source": [
    "## Con numpy y como lista ##"
   ]
  },
  {
   "cell_type": "code",
   "execution_count": null,
   "metadata": {
    "hidden": true
   },
   "outputs": [],
   "source": [
    "import csv"
   ]
  },
  {
   "cell_type": "code",
   "execution_count": null,
   "metadata": {
    "hidden": true
   },
   "outputs": [],
   "source": [
    "with open(\"winemag-data-less.csv\", \"r\", encoding=\"latin-1\") as f:\n",
    "    wines = list(csv.reader(f))"
   ]
  },
  {
   "cell_type": "code",
   "execution_count": null,
   "metadata": {
    "hidden": true
   },
   "outputs": [],
   "source": [
    "wines[:]"
   ]
  },
  {
   "cell_type": "code",
   "execution_count": null,
   "metadata": {
    "hidden": true
   },
   "outputs": [],
   "source": [
    "vinos=[]"
   ]
  },
  {
   "cell_type": "code",
   "execution_count": null,
   "metadata": {
    "hidden": true
   },
   "outputs": [],
   "source": [
    "for l in wines:\n",
    "    vinos.append(l[4])"
   ]
  },
  {
   "cell_type": "code",
   "execution_count": null,
   "metadata": {
    "hidden": true
   },
   "outputs": [],
   "source": [
    "vinos.pop(0)"
   ]
  },
  {
   "cell_type": "code",
   "execution_count": null,
   "metadata": {
    "hidden": true
   },
   "outputs": [],
   "source": [
    "scores = [float(w) for w in vinos]"
   ]
  },
  {
   "cell_type": "code",
   "execution_count": null,
   "metadata": {
    "hidden": true
   },
   "outputs": [],
   "source": [
    "mean(scores)"
   ]
  },
  {
   "cell_type": "code",
   "execution_count": null,
   "metadata": {
    "hidden": true
   },
   "outputs": [],
   "source": [
    "std(scores)"
   ]
  },
  {
   "cell_type": "code",
   "execution_count": null,
   "metadata": {
    "hidden": true
   },
   "outputs": [],
   "source": [
    "plt.hist(scores)\n",
    "plt.show()"
   ]
  },
  {
   "cell_type": "markdown",
   "metadata": {
    "heading_collapsed": true,
    "hidden": true
   },
   "source": [
    "## Con Pandas ##"
   ]
  },
  {
   "cell_type": "code",
   "execution_count": null,
   "metadata": {
    "hidden": true
   },
   "outputs": [],
   "source": [
    "vin = pd.read_csv(\"winemag-data-less.csv\")"
   ]
  },
  {
   "cell_type": "markdown",
   "metadata": {
    "hidden": true
   },
   "source": [
    "Veamos la estructura de nuestro conjunto de datos."
   ]
  },
  {
   "cell_type": "code",
   "execution_count": null,
   "metadata": {
    "hidden": true
   },
   "outputs": [],
   "source": [
    "vin.head()"
   ]
  },
  {
   "cell_type": "markdown",
   "metadata": {
    "hidden": true
   },
   "source": [
    "Hay que eliminar la primer columna."
   ]
  },
  {
   "cell_type": "code",
   "execution_count": null,
   "metadata": {
    "hidden": true
   },
   "outputs": [],
   "source": [
    "vin=vin.drop(\"Unnamed: 0\", axis=1)"
   ]
  },
  {
   "cell_type": "markdown",
   "metadata": {
    "hidden": true
   },
   "source": [
    "Veamos los tipos de nuestras columnas."
   ]
  },
  {
   "cell_type": "code",
   "execution_count": null,
   "metadata": {
    "hidden": true
   },
   "outputs": [],
   "source": [
    "vin.info()"
   ]
  },
  {
   "cell_type": "markdown",
   "metadata": {
    "hidden": true
   },
   "source": [
    "Veamos los primeros datos de la columna points."
   ]
  },
  {
   "cell_type": "code",
   "execution_count": null,
   "metadata": {
    "hidden": true
   },
   "outputs": [],
   "source": [
    "vin['points'][:].head()"
   ]
  },
  {
   "cell_type": "markdown",
   "metadata": {
    "hidden": true
   },
   "source": [
    "Ahora veamos una descripción estadística de points."
   ]
  },
  {
   "cell_type": "code",
   "execution_count": null,
   "metadata": {
    "hidden": true
   },
   "outputs": [],
   "source": [
    "vin['points'].describe()"
   ]
  },
  {
   "cell_type": "markdown",
   "metadata": {
    "hidden": true
   },
   "source": [
    "La varianza de pandas sí divide entre $n-1$. Ver la [documentación](https://pandas.pydata.org/pandas-docs/stable/reference/api/pandas.DataFrame.var.html)"
   ]
  },
  {
   "cell_type": "markdown",
   "metadata": {
    "hidden": true
   },
   "source": [
    "Ahora podemos ver otra columna."
   ]
  },
  {
   "cell_type": "code",
   "execution_count": null,
   "metadata": {
    "hidden": true
   },
   "outputs": [],
   "source": [
    "vin['country'][:].head()"
   ]
  },
  {
   "cell_type": "markdown",
   "metadata": {
    "hidden": true
   },
   "source": [
    "Si deseamos ver un solo renglón."
   ]
  },
  {
   "cell_type": "code",
   "execution_count": null,
   "metadata": {
    "hidden": true
   },
   "outputs": [],
   "source": [
    "print(vin.loc[0])"
   ]
  },
  {
   "cell_type": "markdown",
   "metadata": {
    "hidden": true
   },
   "source": [
    "Podemos crear una lista con los índices de los vinos cuya puntuación sea mayor que media."
   ]
  },
  {
   "cell_type": "code",
   "execution_count": null,
   "metadata": {
    "hidden": true
   },
   "outputs": [],
   "source": [
    "temp=vin.index[vin['points']>vin['points'].mean()].tolist()"
   ]
  },
  {
   "cell_type": "code",
   "execution_count": null,
   "metadata": {
    "hidden": true
   },
   "outputs": [],
   "source": [
    "len(temp),len(vin)"
   ]
  },
  {
   "cell_type": "code",
   "execution_count": null,
   "metadata": {
    "hidden": true
   },
   "outputs": [],
   "source": [
    "for i in range(5):\n",
    "    print(vin.loc[temp[i]])\n",
    "    print('---------------------------')"
   ]
  },
  {
   "cell_type": "markdown",
   "metadata": {},
   "source": [
    "# Housing #"
   ]
  },
  {
   "cell_type": "code",
   "execution_count": null,
   "metadata": {},
   "outputs": [],
   "source": []
  },
  {
   "cell_type": "code",
   "execution_count": null,
   "metadata": {},
   "outputs": [],
   "source": [
    "df = pd.read_csv(\"MELBOURNE_HOUSE_PRICES_LESS.csv\")"
   ]
  },
  {
   "cell_type": "code",
   "execution_count": null,
   "metadata": {},
   "outputs": [],
   "source": [
    "df.head()"
   ]
  },
  {
   "cell_type": "code",
   "execution_count": null,
   "metadata": {},
   "outputs": [],
   "source": [
    "df.info()"
   ]
  },
  {
   "cell_type": "code",
   "execution_count": null,
   "metadata": {},
   "outputs": [],
   "source": [
    "promedio = df['Price'].mean()"
   ]
  },
  {
   "cell_type": "code",
   "execution_count": null,
   "metadata": {},
   "outputs": [],
   "source": [
    "promedio"
   ]
  },
  {
   "cell_type": "code",
   "execution_count": null,
   "metadata": {},
   "outputs": [],
   "source": [
    "mediana= df['Price'].median()"
   ]
  },
  {
   "cell_type": "code",
   "execution_count": null,
   "metadata": {},
   "outputs": [],
   "source": [
    "mediana"
   ]
  },
  {
   "cell_type": "code",
   "execution_count": null,
   "metadata": {},
   "outputs": [],
   "source": [
    "desvest= df['Price'].std()"
   ]
  },
  {
   "cell_type": "code",
   "execution_count": null,
   "metadata": {},
   "outputs": [],
   "source": [
    "desvest"
   ]
  },
  {
   "cell_type": "code",
   "execution_count": null,
   "metadata": {},
   "outputs": [],
   "source": [
    "sns.set(style=\"whitegrid\")"
   ]
  },
  {
   "cell_type": "code",
   "execution_count": null,
   "metadata": {},
   "outputs": [],
   "source": [
    "plt.figure(figsize=(12,8))\n",
    "ax = sns.boxplot(x='Price', data=df, orient=\"v\")"
   ]
  },
  {
   "cell_type": "code",
   "execution_count": null,
   "metadata": {},
   "outputs": [],
   "source": [
    "plt.figure(figsize=(12,8))\n",
    "ax = sns.boxplot(x='Type', y='Price', data=df, orient=\"v\")"
   ]
  },
  {
   "cell_type": "markdown",
   "metadata": {},
   "source": [
    "Para eliminar renglones que no tienen datos:"
   ]
  },
  {
   "cell_type": "code",
   "execution_count": null,
   "metadata": {},
   "outputs": [],
   "source": [
    "filter_data = df.dropna(subset=['Price'])"
   ]
  },
  {
   "cell_type": "code",
   "execution_count": null,
   "metadata": {},
   "outputs": [],
   "source": [
    "plt.figure(figsize=(14,8))\n",
    "sns.distplot(filter_data['Price'], kde=False)"
   ]
  },
  {
   "cell_type": "markdown",
   "metadata": {},
   "source": [
    "Vamos a crear una serie que contenga el conteo de los valores únicos."
   ]
  },
  {
   "cell_type": "code",
   "execution_count": null,
   "metadata": {},
   "outputs": [],
   "source": [
    "type_counts = df['Type'].value_counts()"
   ]
  },
  {
   "cell_type": "code",
   "execution_count": null,
   "metadata": {},
   "outputs": [],
   "source": [
    "type_counts"
   ]
  },
  {
   "cell_type": "markdown",
   "metadata": {},
   "source": [
    "Ahora podemos crear un dataframe, para lo cual necesitamos el siguiente formato."
   ]
  },
  {
   "cell_type": "code",
   "execution_count": null,
   "metadata": {},
   "outputs": [],
   "source": [
    "{'house_type': type_counts}"
   ]
  },
  {
   "cell_type": "markdown",
   "metadata": {},
   "source": [
    "Creamos el dataframe deseado usando como indice los valores t, h, u."
   ]
  },
  {
   "cell_type": "code",
   "execution_count": null,
   "metadata": {},
   "outputs": [],
   "source": [
    "df2 = pd.DataFrame({'house_type': type_counts}, \n",
    "                     index = ['t', 'h', 'u']\n",
    "                   )"
   ]
  },
  {
   "cell_type": "code",
   "execution_count": null,
   "metadata": {},
   "outputs": [],
   "source": [
    "df2"
   ]
  },
  {
   "cell_type": "markdown",
   "metadata": {},
   "source": [
    "Ahora podemos crear una grafica circular."
   ]
  },
  {
   "cell_type": "code",
   "execution_count": null,
   "metadata": {},
   "outputs": [],
   "source": [
    "df2.plot.pie(y='house_type', figsize=(10,10), autopct='%1.1f%%')"
   ]
  },
  {
   "cell_type": "code",
   "execution_count": null,
   "metadata": {},
   "outputs": [],
   "source": [
    "sns.set(style='darkgrid')"
   ]
  },
  {
   "cell_type": "code",
   "execution_count": null,
   "metadata": {},
   "outputs": [],
   "source": [
    "plt.figure(figsize=(10,7))\n",
    "ax = sns.countplot(x='Regionname', data=df)"
   ]
  },
  {
   "cell_type": "code",
   "execution_count": null,
   "metadata": {},
   "outputs": [],
   "source": [
    "plt.figure(figsize=(10,7))\n",
    "ax = sns.countplot(x='Regionname', data=df)\n",
    "ax.set_xticklabels(ax.get_xticklabels(), rotation=90)\n",
    "plt.tight_layout()"
   ]
  },
  {
   "cell_type": "markdown",
   "metadata": {
    "heading_collapsed": true
   },
   "source": [
    "# Revistas científicas #"
   ]
  },
  {
   "cell_type": "code",
   "execution_count": null,
   "metadata": {
    "hidden": true
   },
   "outputs": [],
   "source": [
    "rc = pd.read_csv(\"scimagojr2018PhysicsandAstronomy.csv\",delimiter=\";\", decimal=\",\")"
   ]
  },
  {
   "cell_type": "code",
   "execution_count": null,
   "metadata": {
    "hidden": true
   },
   "outputs": [],
   "source": [
    "rc.head()"
   ]
  },
  {
   "cell_type": "code",
   "execution_count": null,
   "metadata": {
    "hidden": true
   },
   "outputs": [],
   "source": [
    "rc.info()"
   ]
  },
  {
   "cell_type": "code",
   "execution_count": null,
   "metadata": {
    "hidden": true
   },
   "outputs": [],
   "source": [
    "rc['Total Docs. (2018)'].describe()"
   ]
  },
  {
   "cell_type": "code",
   "execution_count": null,
   "metadata": {
    "hidden": true
   },
   "outputs": [],
   "source": [
    "datEst=rc['Total Docs. (2018)'].describe()"
   ]
  },
  {
   "cell_type": "code",
   "execution_count": null,
   "metadata": {
    "hidden": true
   },
   "outputs": [],
   "source": [
    "datEst['mean'],datEst['std'],datEst['std']/datEst['mean']"
   ]
  },
  {
   "cell_type": "code",
   "execution_count": null,
   "metadata": {
    "hidden": true
   },
   "outputs": [],
   "source": [
    "plt.figure(figsize=(10,7))\n",
    "sns.distplot(rc['Total Docs. (2018)'])"
   ]
  },
  {
   "cell_type": "code",
   "execution_count": null,
   "metadata": {
    "hidden": true
   },
   "outputs": [],
   "source": [
    "t=pd.DataFrame({'docs':rc['Total Docs. (2018)']})"
   ]
  },
  {
   "cell_type": "code",
   "execution_count": null,
   "metadata": {
    "hidden": true
   },
   "outputs": [],
   "source": [
    "t.mean()[0]"
   ]
  },
  {
   "cell_type": "code",
   "execution_count": null,
   "metadata": {
    "hidden": true
   },
   "outputs": [],
   "source": [
    "def momBasicos(l):\n",
    "    m=[]\n",
    "    t=pd.DataFrame({'temp':l})\n",
    "    m.append(t.mean()[0])\n",
    "    m.append(t.median()[0])\n",
    "    m.append(t.std()[0])\n",
    "    m.append(t.max()[0])\n",
    "    m.append(t.min()[0])\n",
    "    return m"
   ]
  },
  {
   "cell_type": "code",
   "execution_count": null,
   "metadata": {
    "hidden": true
   },
   "outputs": [],
   "source": [
    "descEstTotDocs=momBasicos(rc['Total Docs. (2018)'])"
   ]
  },
  {
   "cell_type": "code",
   "execution_count": null,
   "metadata": {
    "hidden": true
   },
   "outputs": [],
   "source": [
    "descEstTotDocs"
   ]
  },
  {
   "cell_type": "code",
   "execution_count": null,
   "metadata": {
    "hidden": true
   },
   "outputs": [],
   "source": [
    "rc['H index'].describe()"
   ]
  },
  {
   "cell_type": "code",
   "execution_count": null,
   "metadata": {
    "hidden": true
   },
   "outputs": [],
   "source": [
    "descEstHindex=momBasicos(rc['H index'])"
   ]
  },
  {
   "cell_type": "code",
   "execution_count": null,
   "metadata": {
    "hidden": true
   },
   "outputs": [],
   "source": [
    "descEstHindex"
   ]
  },
  {
   "cell_type": "code",
   "execution_count": null,
   "metadata": {
    "hidden": true
   },
   "outputs": [],
   "source": []
  },
  {
   "cell_type": "code",
   "execution_count": null,
   "metadata": {
    "hidden": true
   },
   "outputs": [],
   "source": [
    "rc.loc[rc['H index'].idxmax()]"
   ]
  },
  {
   "cell_type": "code",
   "execution_count": null,
   "metadata": {
    "hidden": true
   },
   "outputs": [],
   "source": [
    "rc.loc[rc['H index'].idxmin()]"
   ]
  },
  {
   "cell_type": "markdown",
   "metadata": {
    "heading_collapsed": true,
    "hidden": true
   },
   "source": [
    "## Grafica circular ##"
   ]
  },
  {
   "cell_type": "code",
   "execution_count": null,
   "metadata": {
    "hidden": true
   },
   "outputs": [],
   "source": [
    "tipos = rc['Type'].value_counts()"
   ]
  },
  {
   "cell_type": "code",
   "execution_count": null,
   "metadata": {
    "hidden": true
   },
   "outputs": [],
   "source": [
    "tipos"
   ]
  },
  {
   "cell_type": "code",
   "execution_count": null,
   "metadata": {
    "hidden": true
   },
   "outputs": [],
   "source": [
    "{'Tipo_revista': tipos}"
   ]
  },
  {
   "cell_type": "code",
   "execution_count": null,
   "metadata": {
    "hidden": true
   },
   "outputs": [],
   "source": [
    "rc2 = pd.DataFrame({'Tipo_revista': tipos}, \n",
    "                   index = ['journal', 'conference and proceedings', 'book series', 'trade journal'])"
   ]
  },
  {
   "cell_type": "code",
   "execution_count": null,
   "metadata": {
    "hidden": true
   },
   "outputs": [],
   "source": [
    "rc2"
   ]
  },
  {
   "cell_type": "code",
   "execution_count": null,
   "metadata": {
    "hidden": true
   },
   "outputs": [],
   "source": [
    "rc2.plot.pie(y='Tipo_revista', figsize=(10,10), autopct='%1.1f%%')"
   ]
  },
  {
   "cell_type": "markdown",
   "metadata": {
    "heading_collapsed": true,
    "hidden": true
   },
   "source": [
    "## Grafica de conteos ##"
   ]
  },
  {
   "cell_type": "code",
   "execution_count": null,
   "metadata": {
    "hidden": true
   },
   "outputs": [],
   "source": [
    "filter_data = rc.dropna(subset=['Total Docs. (2018)'])"
   ]
  },
  {
   "cell_type": "code",
   "execution_count": null,
   "metadata": {
    "hidden": true
   },
   "outputs": [],
   "source": []
  },
  {
   "cell_type": "code",
   "execution_count": null,
   "metadata": {
    "hidden": true
   },
   "outputs": [],
   "source": [
    "plt.figure(figsize=(10,7))#ancho,alto\n",
    "ax = sns.countplot(x='Country', data=rc)\n",
    "ax.set_xticklabels(ax.get_xticklabels(), rotation=90)\n",
    "plt.tight_layout()"
   ]
  }
 ],
 "metadata": {
  "kernelspec": {
   "display_name": "Python 3",
   "language": "python",
   "name": "python3"
  },
  "language_info": {
   "codemirror_mode": {
    "name": "ipython",
    "version": 3
   },
   "file_extension": ".py",
   "mimetype": "text/x-python",
   "name": "python",
   "nbconvert_exporter": "python",
   "pygments_lexer": "ipython3",
   "version": "3.7.3"
  }
 },
 "nbformat": 4,
 "nbformat_minor": 2
}
