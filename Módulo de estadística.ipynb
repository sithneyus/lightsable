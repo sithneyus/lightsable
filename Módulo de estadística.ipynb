{
 "cells": [
  {
   "cell_type": "markdown",
   "metadata": {},
   "source": [
    "# Introducción a la estadística.\n",
    "\n",
    "En este módulo veremos los conceptos básicos de estadística descriptiva y algunos temas de nivel intermedio.\n",
    "\n",
    "## Estadística descriptiva.\n",
    "\n",
    "Empezaremos usando una lista de números a la cual le calcularemos la media, mediana, moda, varianza y desviación estándar.\n",
    "\n",
    "La media de un conjunto de números $\\{x_1,\\ldots,x_n\\}$ está dada por\n",
    "\n",
    "$\\bar{x}=\\frac{1}{n}\\sum_{i=1}^n x_i.$\n",
    "\n",
    "La media es una cantidad cuyo valor es una medida alrededor de la cual la mayoría de los demás números están ubicados (suponiendo una distribución normal que se verá más adelante).\n",
    "\n",
    "Vamos a crear una lista de números de 10 elementos."
   ]
  },
  {
   "cell_type": "code",
   "execution_count": 50,
   "metadata": {},
   "outputs": [],
   "source": [
    "from numpy import *\n",
    "import matplotlib.pyplot as plt"
   ]
  },
  {
   "cell_type": "code",
   "execution_count": 51,
   "metadata": {},
   "outputs": [],
   "source": [
    "x=random.normal(100.0, 20, 500)"
   ]
  },
  {
   "cell_type": "markdown",
   "metadata": {},
   "source": [
    "Ahora vamos a calcular la media usando directamente nuestra definición de media:"
   ]
  },
  {
   "cell_type": "code",
   "execution_count": 52,
   "metadata": {},
   "outputs": [
    {
     "name": "stdout",
     "output_type": "stream",
     "text": [
      "100.25348972251572\n"
     ]
    }
   ],
   "source": [
    "n=len(x)\n",
    "xb=sum(x)/float(n) #La funcion sum realiza la sumatoria de los elementos de la lista x\n",
    "print(xb)"
   ]
  },
  {
   "cell_type": "markdown",
   "metadata": {},
   "source": [
    "Ahora podemos calcular las dos principales medidas de dispersión: la varianza y la desviación estándar. La varianza de un conjunto de números $\\{x_1,\\ldots,x_n\\}$ está dada por\n",
    "\n",
    "$s=\\frac{1}{n}\\sum_{i=1}^n (x_i-\\bar{x})^2.$\n",
    "\n",
    "Y la desviación estándar es\n",
    "\n",
    "$de=\\sqrt{s}.$"
   ]
  },
  {
   "cell_type": "code",
   "execution_count": 53,
   "metadata": {},
   "outputs": [
    {
     "name": "stdout",
     "output_type": "stream",
     "text": [
      "Varianza =  394.69564163368676\n",
      "Desv. est. =  19.866948473122054\n"
     ]
    }
   ],
   "source": [
    "s=0.0\n",
    "for i in x:\n",
    "    s=s+(i-xb)**2\n",
    "s=s/(n)\n",
    "print(\"Varianza = \",s)\n",
    "de=sqrt(s)\n",
    "print('Desv. est. = ',de)"
   ]
  },
  {
   "cell_type": "markdown",
   "metadata": {},
   "source": [
    "## Ahora vamos a usar las funciones predefinidas en el paquete numpy.\n",
    "Las funciones que usaremos pertenecen al paquete numpy que importamos al inicio."
   ]
  },
  {
   "cell_type": "code",
   "execution_count": 54,
   "metadata": {},
   "outputs": [
    {
     "name": "stdout",
     "output_type": "stream",
     "text": [
      "100.25348972251572\n"
     ]
    }
   ],
   "source": [
    "med=mean(x)\n",
    "print(med)"
   ]
  },
  {
   "cell_type": "code",
   "execution_count": 55,
   "metadata": {},
   "outputs": [
    {
     "name": "stdout",
     "output_type": "stream",
     "text": [
      "394.6956416336871\n",
      "19.866948473122065\n"
     ]
    }
   ],
   "source": [
    "varianza=var(x)\n",
    "print(varianza)\n",
    "des=std(x)\n",
    "print(des)"
   ]
  },
  {
   "cell_type": "markdown",
   "metadata": {},
   "source": [
    "Con estos resultados confirmamos que los resultados obtenidos con las funciones de numpy coinciden con las obtenidas de manera directa implementando las fórmulas de estadística.\n",
    "\n",
    "## Interpretación de los resultados.\n",
    "\n",
    "Ya que conocemos la media y la desviación estándar de un conjunto de datos, debemos tener en mente qué es lo que significan. Para esto, veamos primero el histograma de nuestro conjunto de datos. Un histograma es una lista de las frecuencias de los datos que están en ciertos intervalos que se construyen en función del conjunto de datos disponible. La forma de construir los bins es todo un tema, pero por el momento usaremos la opción automática de la función."
   ]
  },
  {
   "cell_type": "code",
   "execution_count": 56,
   "metadata": {},
   "outputs": [
    {
     "data": {
      "image/png": "[encoded data removed]",
      "text/plain": [
       "<Figure size 432x288 with 1 Axes>"
      ]
     },
     "metadata": {
      "needs_background": "light"
     },
     "output_type": "display_data"
    }
   ],
   "source": [
    "plt.hist(x, bins='auto', edgecolor='k')\n",
    "plt.plot(x=100)\n",
    "plt.show()"
   ]
  },
  {
   "cell_type": "markdown",
   "metadata": {},
   "source": [
    "Esta grafica que hemos obtenido es lo que se llama un histograma de los datos almacenados en la lista x. La altura de cada rectángulo representa la frecuencia del dato correspondiente al valor sobre el cual está la base del rectángulo. Así podemos ver que los datos más frecuentes están alrededor de 100. Esto es lo que nos indica el valor de la media que obtuvimos anteriormente. Esto es, la media es el valor alrededor del cual están la mayoría de los datos. Por otra parte la desviación estándar es la media de las distancias de los datos con respecto a la media de los datos.\n",
    "\n",
    "Hay otros dos parámetros que se pueden calcular para describir estadísticamente un conjunto de datos. Estos son la mediana y la moda."
   ]
  },
  {
   "cell_type": "code",
   "execution_count": 57,
   "metadata": {},
   "outputs": [
    {
     "name": "stdout",
     "output_type": "stream",
     "text": [
      "100.08878910509665\n"
     ]
    }
   ],
   "source": [
    "print(median(x))"
   ]
  },
  {
   "cell_type": "code",
   "execution_count": 58,
   "metadata": {},
   "outputs": [
    {
     "name": "stdout",
     "output_type": "stream",
     "text": [
      "(array([ 3,  5,  8, 19, 22, 38, 55, 60, 70, 53, 59, 44, 27, 20,  7,  7,  1,\n",
      "        0,  2]), array([ 44.03505382,  50.56857471,  57.10209559,  63.63561648,\n",
      "        70.16913736,  76.70265825,  83.23617913,  89.76970002,\n",
      "        96.3032209 , 102.83674179, 109.37026267, 115.90378356,\n",
      "       122.43730444, 128.97082533, 135.50434621, 142.0378671 ,\n",
      "       148.57138798, 155.10490886, 161.63842975, 168.17195063]))\n",
      "moda = 96.30322090170037\n"
     ]
    }
   ],
   "source": [
    "h=histogram(x, bins='auto')\n",
    "print(h)\n",
    "l=list(h[0])\n",
    "m=l.index(max(l))\n",
    "moda=h[1][m]\n",
    "print('moda =',moda)"
   ]
  },
  {
   "cell_type": "markdown",
   "metadata": {},
   "source": [
    "## Inferencia estadística.\n",
    "La inferencia estadıstica es el proceso de deducir las propiedades de una distribucion intrınseca mediante el analisis de datos. Se busca deducir o inferir propiedades de una poblacion a partir de muestras.\n",
    "\n",
    "La inferencia estadıstica se divide en:\n",
    "\n",
    "**Estimación** que se enfoca en estimar los valores especıficos correspondientes a los parametros de una poblacion. Es decir, se busca calcular los valores de los parametros. \n",
    "\n",
    "**Pruebas de hipótesis** que consiste en probar si el valor de un parametro de una poblacion es igual a algún valor específico. En este caso se busca poner a prueba la hipótesis de si un parámetro tiene un cierto valor.\n",
    "\n",
    "## Estimación.\n",
    "\n",
    "Una **muestra aleatoria** es una seleccion de algunos miembros de la poblacion tal que cada miembro es independientemente elegido y tiene una probabilidad conocida no nula de ser elegido. \n",
    "\n",
    "Una **muestra aleatoria simple** es una muestra aleatoria en la cual cada miembro del grupo tiene\n",
    "la misma probabilidad de ser elegido.\n",
    "\n",
    "**Población objetivo** También denominada de referencia o de estudio, es el grupo que se desea estudiar. Comprende a todos los miembros del grupo de interés y en muchas ocasiones no esta disponible en su totalidad para ser analizada.\n",
    "\n",
    "En la lista x tenemos a nuestra población objetivo, ahora obtendremos tres muestras aleatorias usando la función random.choice() de numpy. "
   ]
  },
  {
   "cell_type": "code",
   "execution_count": 59,
   "metadata": {},
   "outputs": [],
   "source": [
    "m1=random.choice(x,50)\n",
    "m2=random.choice(x,50)\n",
    "m3=random.choice(x,50)"
   ]
  },
  {
   "cell_type": "markdown",
   "metadata": {},
   "source": [
    "Estas muestras son muestras aleatorias simples, es decir cada elemento de x tiene la misma probabilidad de ser elegido.\n",
    "\n",
    "Ahora veamos cual es la media y desviación estándar de cada muestra."
   ]
  },
  {
   "cell_type": "code",
   "execution_count": 60,
   "metadata": {},
   "outputs": [
    {
     "name": "stdout",
     "output_type": "stream",
     "text": [
      "102.07746531162353 18.910625209339305 \n",
      " 96.57898398373018 17.592719502522232 \n",
      " 100.70955446204128 18.244295217463243\n"
     ]
    }
   ],
   "source": [
    "print(mean(m1),std(m1),'\\n',mean(m2),std(m2),'\\n',mean(m3),std(m3))"
   ]
  },
  {
   "cell_type": "markdown",
   "metadata": {},
   "source": [
    "Ahora veamos cómo cambian estás estimaciones si modificamos la probabilidad de las muestras aleatorias, esto es si no son muestras aleatorias simples. \n",
    "\n",
    "Para esto necesitamos asignar una probabilidad a cada elemento de x. Supongamos que nos interesa asignarles una probabilidad gaussiana, entonces debemos usar la función de densidad de probabilidad de la distribución normal para obtener las probabilidades de los elementos de x.\n",
    "\n",
    "$f(x,\\mu,\\sigma)=\\frac{1}{\\sqrt{2\\pi\\sigma^2}}e^{-\\frac{(x-\\mu)^2}{2\\sigma^2}}$."
   ]
  },
  {
   "cell_type": "code",
   "execution_count": 74,
   "metadata": {},
   "outputs": [],
   "source": [
    "p=[]\n",
    "denom=sqrt(2.0*pi*varianza)\n",
    "d=(2.0*varianza)\n",
    "for i in range(len(x)):\n",
    "    f=exp(-float(x[i]-med)**2/d)/denom\n",
    "    p.append(f)"
   ]
  },
  {
   "cell_type": "code",
   "execution_count": 75,
   "metadata": {},
   "outputs": [],
   "source": [
    "s1=random.choice(x,50,p)\n",
    "s2=random.choice(x,50,p)\n",
    "s3=random.choice(x,50,p)"
   ]
  },
  {
   "cell_type": "code",
   "execution_count": 76,
   "metadata": {},
   "outputs": [
    {
     "name": "stdout",
     "output_type": "stream",
     "text": [
      "104.58616206039231 22.658368281061197 \n",
      " 104.72876774950853 22.809618357278932 \n",
      " 100.40028852223647 19.252694564310524\n"
     ]
    }
   ],
   "source": [
    "print(mean(s1),std(s1),'\\n',mean(s2),std(s2),'\\n',mean(s3),std(s3))"
   ]
  }
 ],
 "metadata": {
  "kernelspec": {
   "display_name": "Python 3",
   "language": "python",
   "name": "python3"
  },
  "language_info": {
   "codemirror_mode": {
    "name": "ipython",
    "version": 3
   },
   "file_extension": ".py",
   "mimetype": "text/x-python",
   "name": "python",
   "nbconvert_exporter": "python",
   "pygments_lexer": "ipython3",
   "version": "3.7.3"
  }
 },
 "nbformat": 4,
 "nbformat_minor": 2
}
