{
  "nbformat": 4,
  "nbformat_minor": 0,
  "metadata": {
    "colab": {
      "name": "Ciencia computacional.ipynb",
      "provenance": [],
      "authorship_tag": "ABX9TyNdlP1dpLwtyntlFHNCsZ8k",
      "include_colab_link": true
    },
    "kernelspec": {
      "name": "python3",
      "display_name": "Python 3"
    }
  },
  "cells": [
    {
      "cell_type": "markdown",
      "metadata": {
        "id": "view-in-github",
        "colab_type": "text"
      },
      "source": [
        "<a href=\"https://colab.research.google.com/github/sithneyus/lightsable/blob/master/Ciencia_computacional.ipynb\" target=\"_parent\"><img src=\"https://colab.research.google.com/assets/colab-badge.svg\" alt=\"Open In Colab\"/></a>"
      ]
    },
    {
      "cell_type": "code",
      "metadata": {
        "id": "sIHwuPYAGn9E",
        "colab_type": "code",
        "colab": {}
      },
      "source": [
        "import numpy as np\n",
        "import matplotlib.pyplot as plt"
      ],
      "execution_count": 0,
      "outputs": []
    },
    {
      "cell_type": "markdown",
      "metadata": {
        "id": "qt97n5iXTumN",
        "colab_type": "text"
      },
      "source": [
        "Declaración de variables."
      ]
    },
    {
      "cell_type": "code",
      "metadata": {
        "id": "VIKVKz5VMBHJ",
        "colab_type": "code",
        "colab": {}
      },
      "source": [
        "θ=np.pi/4 #ángulo con respecto a la horizontal\n",
        "v0=10 # velocidad inicial en m/s\n",
        "\n",
        "# posición inicial\n",
        "x0=0; \n",
        "y0=0;\n",
        "\n",
        "t0=0 #tiempo inicial\n",
        "tf=2 #tiempo final\n",
        "dt=1e-3 #tamaño de paso temporal"
      ],
      "execution_count": 0,
      "outputs": []
    },
    {
      "cell_type": "code",
      "metadata": {
        "id": "Hr-UIh0kMCzX",
        "colab_type": "code",
        "colab": {}
      },
      "source": [
        "g=9.8 #en unidades de m/s^2\n",
        "\n",
        "vx0=v0*np.cos(θ) # componente x de la velocidad inicial al tiempo cero.\n",
        "vy0=v0*np.sin(θ) # componente y de la velocidad inicial al tiempo cero.\n",
        "\n",
        "nt=int((tf-t0)/dt) # número de pasos temporales para el intervalo de tiempo elegido y el paso temporal\n",
        "t=np.linspace(t0,tf,nt) # t es un arreglo con los pasos de tiempo\n"
      ],
      "execution_count": 0,
      "outputs": []
    },
    {
      "cell_type": "markdown",
      "metadata": {
        "id": "uXs0AJ6XJWdF",
        "colab_type": "text"
      },
      "source": [
        "La función de numpy llamada linspace() permite crear un intervalo entre dos valores t0 y tf con incrementos definidos por nt."
      ]
    },
    {
      "cell_type": "code",
      "metadata": {
        "id": "A5HHt_oLOSpK",
        "colab_type": "code",
        "outputId": "6883f234-c805-4095-893e-830dd8a9379a",
        "colab": {
          "base_uri": "https://localhost:8080/",
          "height": 53
        }
      },
      "source": [
        "t"
      ],
      "execution_count": 4,
      "outputs": [
        {
          "output_type": "execute_result",
          "data": {
            "text/plain": [
              "array([0.00000000e+00, 1.00050025e-03, 2.00100050e-03, ...,\n",
              "       1.99799900e+00, 1.99899950e+00, 2.00000000e+00])"
            ]
          },
          "metadata": {
            "tags": []
          },
          "execution_count": 4
        }
      ]
    },
    {
      "cell_type": "code",
      "metadata": {
        "id": "ZNLELKMaMcXF",
        "colab_type": "code",
        "colab": {}
      },
      "source": [
        "# se inicializan las listas que almacenarán la posición en cada paso de tiempo\n",
        "x=[]\n",
        "y=[]\n",
        "vx=[]\n",
        "vy=[]\n",
        "\n",
        "x.append(x0)\n",
        "y.append(y0)\n",
        "vx.append(vx0)\n",
        "vy.append(vy0)"
      ],
      "execution_count": 0,
      "outputs": []
    },
    {
      "cell_type": "markdown",
      "metadata": {
        "id": "Je5IIX1imAVv",
        "colab_type": "text"
      },
      "source": [
        "Ahora se hace la simulación de la trayectoria usando las variables que hemos declarado y las ecuaciones que describen el tiro parabólico."
      ]
    },
    {
      "cell_type": "code",
      "metadata": {
        "id": "US6ESjEaOEQJ",
        "colab_type": "code",
        "colab": {}
      },
      "source": [
        "for ii in range(1,nt):\n",
        "    x.append(x[ii-1]+vx[ii-1]*dt)\n",
        "    y.append(y[ii-1]+vy[ii-1]*dt)\n",
        "\n",
        "    vx.append(vx[ii-1])\n",
        "    vy.append(vy[ii-1]-g*dt)\n"
      ],
      "execution_count": 0,
      "outputs": []
    },
    {
      "cell_type": "markdown",
      "metadata": {
        "id": "cOxo0W1BmMYU",
        "colab_type": "text"
      },
      "source": [
        "Para poder ver la simulación se grafica la posición de nuestro objeto."
      ]
    },
    {
      "cell_type": "code",
      "metadata": {
        "id": "sMVsyhYxjnUB",
        "colab_type": "code",
        "outputId": "08ef089e-8839-4217-b55f-9670023c4051",
        "colab": {
          "base_uri": "https://localhost:8080/",
          "height": 283
        }
      },
      "source": [
        "plt.plot(x,y)"
      ],
      "execution_count": 7,
      "outputs": [
        {
          "output_type": "execute_result",
          "data": {
            "text/plain": [
              "[<matplotlib.lines.Line2D at 0x7f077a8eb5c0>]"
            ]
          },
          "metadata": {
            "tags": []
          },
          "execution_count": 7
        },
        {
          "output_type": "display_data",
          "data": {
            "image/png": "[encoded data removed]",
            "text/plain": [
              "<Figure size 432x288 with 1 Axes>"
            ]
          },
          "metadata": {
            "tags": [],
            "needs_background": "light"
          }
        }
      ]
    }
  ]
}