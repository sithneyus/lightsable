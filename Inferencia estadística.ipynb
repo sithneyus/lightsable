{
 "cells": [
  {
   "cell_type": "markdown",
   "metadata": {},
   "source": [
    "<a href=\"https://colab.research.google.com/github/sithneyus/lightsable/blob/master/Estad%C3%ADstica%20Descriptiva.ipynb\" target=\"_parent\"><img src=\"https://colab.research.google.com/assets/colab-badge.svg\" alt=\"Open In Colab\"/></a>"
   ]
  },
  {
   "cell_type": "markdown",
   "metadata": {},
   "source": [
    "# Teoría muestral (Inferencia estadística).\n",
    "\n",
    "La inferencia estadıstica es el proceso de deducir las propiedades de una poblacion a partir de muestras.\n",
    "\n",
    "La inferencia estadıstica se divide en:\n",
    "\n",
    "- **Estimación** que se enfoca en estimar los valores especıficos correspondientes a los parametros de una poblacion. Es decir, se busca calcular los valores de los parametros. \n",
    "\n",
    "## Estimación.\n",
    "\n",
    "- Una **muestra aleatoria** es una selección de algunos miembros de la población tal que cada miembro es independientemente elegido y tiene una probabilidad conocida no nula de ser elegido. \n",
    "\n",
    "- Una **muestra aleatoria simple** es una muestra aleatoria en la cual cada miembro del grupo tiene\n",
    "la misma probabilidad de ser elegido."
   ]
  },
  {
   "cell_type": "code",
   "execution_count": null,
   "metadata": {},
   "outputs": [],
   "source": [
    "import numpy as np\n",
    "import matplotlib.pyplot as plt\n",
    "import seaborn as sns"
   ]
  },
  {
   "cell_type": "code",
   "execution_count": null,
   "metadata": {},
   "outputs": [],
   "source": [
    "with open('datosInicial.txt') as f:\n",
    "    x=[]\n",
    "    for line in f: \n",
    "        x.append(float(line))"
   ]
  },
  {
   "cell_type": "markdown",
   "metadata": {},
   "source": [
    "En la lista x tenemos a nuestra población objetivo, ahora obtendremos tres muestras aleatorias usando la función random.choice() de numpy. "
   ]
  },
  {
   "cell_type": "code",
   "execution_count": null,
   "metadata": {},
   "outputs": [],
   "source": [
    "m1=np.random.choice(x,50)\n",
    "m2=np.random.choice(x,50)\n",
    "m3=np.random.choice(x,50)"
   ]
  },
  {
   "cell_type": "code",
   "execution_count": null,
   "metadata": {},
   "outputs": [],
   "source": [
    "plt.plot(m1)\n",
    "plt.plot(m2)\n",
    "plt.plot(m3)"
   ]
  },
  {
   "cell_type": "code",
   "execution_count": null,
   "metadata": {},
   "outputs": [],
   "source": [
    "plt.hist(m1)"
   ]
  },
  {
   "cell_type": "code",
   "execution_count": null,
   "metadata": {},
   "outputs": [],
   "source": [
    "plt.hist(m2)"
   ]
  },
  {
   "cell_type": "code",
   "execution_count": null,
   "metadata": {},
   "outputs": [],
   "source": [
    "plt.hist(m3)"
   ]
  },
  {
   "cell_type": "markdown",
   "metadata": {},
   "source": [
    "Estas muestras son muestras aleatorias simples, es decir cada elemento de x tiene la misma probabilidad de ser elegido.\n",
    "\n",
    "Una ***estadística*** es la cantidad, correspondiente a un parámetro, obtenida de una muestra.\n",
    "\n",
    "Ahora veamos cuales son las estadísticas de nuestras muestras, es decir la media y desviación estándar de cada muestra."
   ]
  },
  {
   "cell_type": "code",
   "execution_count": null,
   "metadata": {},
   "outputs": [],
   "source": [
    "print(np.mean(m1),np.std(m1,ddof=1),'\\n',np.mean(m2),np.std(m2,ddof=1),'\\n',np.mean(m3),np.std(m3,ddof=1))"
   ]
  },
  {
   "cell_type": "code",
   "execution_count": null,
   "metadata": {},
   "outputs": [],
   "source": [
    "plt.figure(figsize=(12,7))#ancho,alto\n",
    "sns.boxplot(x=None, data=m1, orient=\"h\")"
   ]
  },
  {
   "cell_type": "code",
   "execution_count": null,
   "metadata": {},
   "outputs": [],
   "source": [
    "plt.figure(figsize=(12,7))#ancho,alto\n",
    "sns.boxplot(x=None, data=m2, orient=\"h\")"
   ]
  },
  {
   "cell_type": "code",
   "execution_count": null,
   "metadata": {},
   "outputs": [],
   "source": [
    "plt.figure(figsize=(12,7))#ancho,alto\n",
    "sns.boxplot(x=None, data=m3, orient=\"h\")"
   ]
  },
  {
   "cell_type": "markdown",
   "metadata": {},
   "source": [
    "Ahora veamos cómo cambian estás estimaciones si modificamos la probabilidad de las muestras aleatorias, esto es si no son muestras aleatorias simples. \n",
    "\n",
    "Para esto necesitamos asignar una probabilidad a cada elemento de x. Supongamos que nos interesa asignarles una probabilidad gaussiana, entonces debemos usar la función de probabilidad de la distribución normal para obtener las probabilidades de los elementos de x.\n",
    "\n",
    "$f(x,\\mu,\\sigma)=\\frac{1}{\\sqrt{2\\pi\\sigma^2}}e^{-\\frac{(x-\\mu)^2}{2\\sigma^2}}$.\n",
    "\n",
    "Veamos como se crea una lista con números aleatorios normalmente distribuidos."
   ]
  },
  {
   "cell_type": "code",
   "execution_count": null,
   "metadata": {},
   "outputs": [],
   "source": [
    "g=np.random.normal(0, 0.5, size=10000)"
   ]
  },
  {
   "cell_type": "markdown",
   "metadata": {},
   "source": [
    "Ahora su histograma."
   ]
  },
  {
   "cell_type": "code",
   "execution_count": null,
   "metadata": {},
   "outputs": [],
   "source": [
    "plt.hist(g,bins=50)"
   ]
  },
  {
   "cell_type": "markdown",
   "metadata": {},
   "source": [
    "Una distribución relacionada a la normal, pero que es diferente en su tipo, es la distribución binomial. \n",
    "\n",
    "Veamos cómo se ve el histograma de una distribución binomial."
   ]
  },
  {
   "cell_type": "code",
   "execution_count": null,
   "metadata": {},
   "outputs": [],
   "source": [
    "binom = np.random.binomial(500, 0.5, size=10000)"
   ]
  },
  {
   "cell_type": "code",
   "execution_count": null,
   "metadata": {},
   "outputs": [],
   "source": [
    "plt.hist(binom,bins=50)"
   ]
  },
  {
   "cell_type": "markdown",
   "metadata": {},
   "source": [
    "Ahora podemos usar alguna de estas distribuciones para crear muestras aleatorias que no sean simples. \n",
    "\n",
    "A continuación usaremos la distribución normal. Para lo cual vamos a definir la media y la varianza de nuestra distribución normal o gaussiana."
   ]
  },
  {
   "cell_type": "code",
   "execution_count": null,
   "metadata": {},
   "outputs": [],
   "source": [
    "med=0.0\n",
    "varianza=1.0"
   ]
  },
  {
   "cell_type": "code",
   "execution_count": null,
   "metadata": {},
   "outputs": [],
   "source": [
    "p=[]\n",
    "denom=np.sqrt(2.0*np.pi*varianza)\n",
    "d=(2.0*varianza)\n",
    "for i in range(len(x)):\n",
    "    f=np.exp(-float(x[i]-med)**2/d)/denom\n",
    "    p.append(f)"
   ]
  },
  {
   "cell_type": "markdown",
   "metadata": {},
   "source": [
    "Ahora p es una lista que contiene las probabilidades asignadas por una gaussiana de media 0 y varianza 1."
   ]
  },
  {
   "cell_type": "code",
   "execution_count": null,
   "metadata": {},
   "outputs": [],
   "source": [
    "len(p)"
   ]
  },
  {
   "cell_type": "markdown",
   "metadata": {},
   "source": [
    "Documentación [random.choice()](https://het.as.utexas.edu/HET/Software/Numpy/reference/generated/numpy.random.choice.html)\n",
    "\n",
    "Ahora se puede usar p para crear muestras aleatorias tales que la probabilidad de elegir un elemento de la población es normal."
   ]
  },
  {
   "cell_type": "code",
   "execution_count": null,
   "metadata": {},
   "outputs": [],
   "source": [
    "s1=np.random.choice(x,50,p)\n",
    "s2=np.random.choice(x,50,p)\n",
    "s3=np.random.choice(x,50,p)"
   ]
  },
  {
   "cell_type": "code",
   "execution_count": null,
   "metadata": {},
   "outputs": [],
   "source": [
    "len(s1)"
   ]
  },
  {
   "cell_type": "code",
   "execution_count": null,
   "metadata": {},
   "outputs": [],
   "source": [
    "plt.hist(s1)"
   ]
  },
  {
   "cell_type": "code",
   "execution_count": null,
   "metadata": {},
   "outputs": [],
   "source": [
    "plt.hist(s2)"
   ]
  },
  {
   "cell_type": "code",
   "execution_count": null,
   "metadata": {},
   "outputs": [],
   "source": [
    "plt.hist(s3)"
   ]
  },
  {
   "cell_type": "code",
   "execution_count": null,
   "metadata": {},
   "outputs": [],
   "source": [
    "print(np.mean(s1),np.std(s1,ddof=1),'\\n',np.mean(s2),np.std(s2,ddof=1),'\\n',np.mean(s3),np.std(s3,ddof=1))"
   ]
  },
  {
   "cell_type": "code",
   "execution_count": null,
   "metadata": {},
   "outputs": [],
   "source": [
    "sns.boxplot(x=None, data=s1, orient=\"h\")"
   ]
  },
  {
   "cell_type": "code",
   "execution_count": null,
   "metadata": {},
   "outputs": [],
   "source": [
    "sns.boxplot(x=None, data=s2, orient=\"h\")"
   ]
  },
  {
   "cell_type": "code",
   "execution_count": null,
   "metadata": {},
   "outputs": [],
   "source": [
    "sns.boxplot(x=None, data=s3, orient=\"h\")"
   ]
  },
  {
   "cell_type": "markdown",
   "metadata": {},
   "source": [
    "### Distribuciones muestrales"
   ]
  },
  {
   "cell_type": "markdown",
   "metadata": {},
   "source": [
    "La distribución muestral de una estadística es la distribución de esa estadística cuando se deriva de una muestra aleatoria de tamaño $n$.\n",
    "\n",
    "Crear una lista de muestras aleatorias tomadas del conjunto $x$ "
   ]
  },
  {
   "cell_type": "code",
   "execution_count": null,
   "metadata": {},
   "outputs": [],
   "source": [
    "medias=[]\n",
    "desvs=[]\n",
    "for i in range(50):\n",
    "    t=np.random.choice(x,30)\n",
    "    medias.append(np.mean(t))\n",
    "    desvs.append(np.std(t,ddof=1))"
   ]
  },
  {
   "cell_type": "code",
   "execution_count": null,
   "metadata": {},
   "outputs": [],
   "source": [
    "np.mean(medias),np.mean(desvs)"
   ]
  },
  {
   "cell_type": "code",
   "execution_count": null,
   "metadata": {},
   "outputs": [],
   "source": [
    "plt.hist(medias)"
   ]
  },
  {
   "cell_type": "markdown",
   "metadata": {},
   "source": [
    "Es momento de practicar.\n",
    "\n",
    "### Ejercicios en clase.\n",
    "\n",
    "1. Usando $x$ calcular la distribución de:\n",
    "\n",
    "- Medianas.\n",
    "- Varianzas.\n",
    "\n",
    "2. Usando los datos de desempleo, crear:\n",
    "\n",
    "- Una lista con el promedio mundial por año. Analizar la lista obtenida usando la estadística descriptiva vista hasta ahora.\n",
    "- Muestras aleatorias simples y analizar la distribución muestral de las medias. \n",
    "- Discutir algunas posibles interpretaciones de los resultados."
   ]
  }
 ],
 "metadata": {
  "kernelspec": {
   "display_name": "Python 3",
   "language": "python",
   "name": "python3"
  },
  "language_info": {
   "codemirror_mode": {
    "name": "ipython",
    "version": 3
   },
   "file_extension": ".py",
   "mimetype": "text/x-python",
   "name": "python",
   "nbconvert_exporter": "python",
   "pygments_lexer": "ipython3",
   "version": "3.7.3"
  }
 },
 "nbformat": 4,
 "nbformat_minor": 2
}
